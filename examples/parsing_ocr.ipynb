{
    "cells": [
        {
            "cell_type": "markdown",
            "metadata": {},
            "source": [
                "# Parse document text content and metadata with Tikara"
            ]
        },
        {
            "cell_type": "code",
            "execution_count": 1,
            "metadata": {},
            "outputs": [],
            "source": [
                "# 1. Instantiate tika\n",
                "\n",
                "from tikara import Tika\n",
                "\n",
                "tika = Tika(lazy_load=True)"
            ]
        },
        {
            "cell_type": "code",
            "execution_count": 2,
            "metadata": {},
            "outputs": [],
            "source": [
                "# 2. Pick an input file\n",
                "\n",
                "from pathlib import Path\n",
                "\n",
                "\n",
                "# input_doc = Path(\"../test/data/numbers_gs150.jpg\")\n",
                "# input_doc = Path(\"../test/data/stock_gs200.jpg\")\n",
                "# input_doc = Path(\"../test/data/captcha1.jpg\")\n",
                "input_doc = Path(\"../test/data/plaid_c150.jpg\")"
            ]
        },
        {
            "cell_type": "code",
            "execution_count": 3,
            "metadata": {},
            "outputs": [
                {
                    "name": "stderr",
                    "output_type": "stream",
                    "text": [
                        "INFO  [main] 11:08:50,294 org.apache.tika.parser.ocr.TesseractOCRParser Tesseract is installed and is being invoked. This can add greatly to processing time.  If you do not want tesseract to be applied to your files see: https://cwiki.apache.org/confluence/display/TIKA/TikaOCR#TikaOCR-disable-ocr\n"
                    ]
                },
                {
                    "data": {
                        "text/plain": [
                            "'CENTER\\nFOR THE i hisericdomiom Malioue\\n\\nJanuary 6-29\\n\\nFri & Saturdays at 8\\nSandes Matinees at 2 pa\\n\\n_ Tickets: 723-8698\\n\\n| www.henegar.org pres rama tard\\n\\n\\n\\n'"
                        ]
                    },
                    "execution_count": 3,
                    "metadata": {},
                    "output_type": "execute_result"
                }
            ],
            "source": [
                "# 3. Extract text from the input file to a byte stream \n",
                "#  This is an advanced use case, remove the output_stream parameter to get a string output\n",
                "\n",
                "output_stream, metadata = tika.parse(\n",
                "    obj=input_doc,\n",
                "    output_stream=True,\n",
                "    output_format=\"txt\"\n",
                ")\n",
                "\n",
                "content = output_stream.read().decode(\"utf-8\")\n",
                "\n",
                "content"
            ]
        },
        {
            "cell_type": "code",
            "execution_count": 4,
            "metadata": {},
            "outputs": [
                {
                    "data": {
                        "text/plain": [
                            "{'table_count': '4 Huffman tables',\n",
                            " 'component_count': 3,\n",
                            " 'resource_name': '../test/data/plaid_c150.jpg',\n",
                            " 'content_type': 'image/jpeg',\n",
                            " 'content_length': 114086,\n",
                            " 'height': 940,\n",
                            " 'width': 640}"
                        ]
                    },
                    "execution_count": 4,
                    "metadata": {},
                    "output_type": "execute_result"
                }
            ],
            "source": [
                "metadata.model_dump(exclude_unset=True, exclude_none=True, exclude={\"raw_metadata\"})"
            ]
        },
        {
            "cell_type": "code",
            "execution_count": 5,
            "metadata": {},
            "outputs": [
                {
                    "data": {
                        "text/plain": [
                            "{'Number of Tables': '4 Huffman tables',\n",
                            " 'Compression Type': 'Baseline',\n",
                            " 'Data Precision': '8 bits',\n",
                            " 'X-TIKA:Parsed-By-Full-Set': 'org.apache.tika.parser.DefaultParser',\n",
                            " 'Number of Components': '3',\n",
                            " 'tiff:ImageLength': '940',\n",
                            " 'Component 2': 'Cb component: Quantization table 1, Sampling factors 1 horiz/1 vert',\n",
                            " 'Thumbnail Height Pixels': '0',\n",
                            " 'Component 1': 'Y component: Quantization table 0, Sampling factors 2 horiz/2 vert',\n",
                            " 'X Resolution': '1 dot',\n",
                            " 'Extension Code': 'Thumbnail stored using 3 bytes/pixel',\n",
                            " 'File Size': '114086 bytes',\n",
                            " 'Component 3': 'Cr component: Quantization table 1, Sampling factors 1 horiz/1 vert',\n",
                            " 'Version': '1.2',\n",
                            " 'File Name': 'apache-tika-2447546473670837897.jpg',\n",
                            " 'Content-Length': '114086',\n",
                            " 'tiff:BitsPerSample': '8',\n",
                            " 'Content-Type': 'image/jpeg',\n",
                            " 'Resolution Units': 'none',\n",
                            " 'File Modified Date': 'Tue Jan 28 11:08:50 -05:00 2025',\n",
                            " 'resourceName': '../test/data/plaid_c150.jpg',\n",
                            " 'Image Height': '940 pixels',\n",
                            " 'Thumbnail Width Pixels': '0',\n",
                            " 'Image Width': '640 pixels',\n",
                            " 'Content-Type-Parser-Override': 'image/ocr-jpeg',\n",
                            " 'X-TIKA:Parsed-By': 'org.apache.tika.parser.DefaultParser',\n",
                            " 'tiff:ImageWidth': '640',\n",
                            " 'Y Resolution': '1 dot'}"
                        ]
                    },
                    "execution_count": 5,
                    "metadata": {},
                    "output_type": "execute_result"
                }
            ],
            "source": [
                "metadata.raw_metadata"
            ]
        },
        {
            "cell_type": "code",
            "execution_count": 7,
            "metadata": {},
            "outputs": [
                {
                    "data": {
                        "text/plain": [
                            "TikaDetectLanguageResult(language='en', confidence=<TikaLanguageConfidence.HIGH: 'HIGH'>, raw_score=0.9999939799308777)"
                        ]
                    },
                    "execution_count": 7,
                    "metadata": {},
                    "output_type": "execute_result"
                }
            ],
            "source": [
                "lang = tika.detect_language(content)\n",
                "\n",
                "lang"
            ]
        }
    ],
    "metadata": {
        "kernelspec": {
            "display_name": ".venv",
            "language": "python",
            "name": "python3"
        },
        "language_info": {
            "codemirror_mode": {
                "name": "ipython",
                "version": 3
            },
            "file_extension": ".py",
            "mimetype": "text/x-python",
            "name": "python",
            "nbconvert_exporter": "python",
            "pygments_lexer": "ipython3",
            "version": "3.12.8"
        }
    },
    "nbformat": 4,
    "nbformat_minor": 2
}
