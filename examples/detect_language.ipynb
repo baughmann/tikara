{
    "cells": [
        {
            "cell_type": "code",
            "execution_count": 1,
            "metadata": {},
            "outputs": [],
            "source": [
                "from tikara import Tika\n",
                "\n",
                "\n",
                "tika = Tika()"
            ]
        },
        {
            "cell_type": "code",
            "execution_count": 2,
            "metadata": {},
            "outputs": [],
            "source": [
                "from pathlib import Path\n",
                "\n",
                "\n",
                "input_file = Path(\"../test/data/demo.docx\")"
            ]
        },
        {
            "cell_type": "code",
            "execution_count": 3,
            "metadata": {},
            "outputs": [
                {
                    "ename": "TypeError",
                    "evalue": "No matching overloads found for org.apache.tika.language.detect.LanguageDetector.detect(PosixPath), options are:\n\tpublic org.apache.tika.language.detect.LanguageResult org.apache.tika.language.detect.LanguageDetector.detect(java.lang.CharSequence)\n\tpublic org.apache.tika.language.detect.LanguageResult org.apache.tika.language.detect.LanguageDetector.detect()\n",
                    "output_type": "error",
                    "traceback": [
                        "\u001b[0;31m---------------------------------------------------------------------------\u001b[0m",
                        "\u001b[0;31mTypeError\u001b[0m                                 Traceback (most recent call last)",
                        "Cell \u001b[0;32mIn[3], line 1\u001b[0m\n\u001b[0;32m----> 1\u001b[0m result \u001b[38;5;241m=\u001b[39m \u001b[43mtika\u001b[49m\u001b[38;5;241;43m.\u001b[39;49m\u001b[43mdetect_language\u001b[49m\u001b[43m(\u001b[49m\u001b[43minput_file\u001b[49m\u001b[43m)\u001b[49m\n\u001b[1;32m      3\u001b[0m result\n",
                        "File \u001b[0;32m~/Projects/tikara/src/tikara/tika.py:240\u001b[0m, in \u001b[0;36mTika.detect_language\u001b[0;34m(self, content)\u001b[0m\n\u001b[1;32m    229\u001b[0m \u001b[38;5;250m\u001b[39m\u001b[38;5;124;03m\"\"\"Detects the language of the given string content.\u001b[39;00m\n\u001b[1;32m    230\u001b[0m \n\u001b[1;32m    231\u001b[0m \u001b[38;5;124;03mArgs:\u001b[39;00m\n\u001b[0;32m   (...)\u001b[0m\n\u001b[1;32m    235\u001b[0m \u001b[38;5;124;03m    tikaraDetectLanguageResult: The detected language with some confidence information.\u001b[39;00m\n\u001b[1;32m    236\u001b[0m \u001b[38;5;124;03m\"\"\"\u001b[39;00m\n\u001b[1;32m    238\u001b[0m \u001b[38;5;28mself\u001b[39m\u001b[38;5;241m.\u001b[39m_ensure_language_models_loaded()\n\u001b[0;32m--> 240\u001b[0m result \u001b[38;5;241m=\u001b[39m \u001b[38;5;28;43mself\u001b[39;49m\u001b[38;5;241;43m.\u001b[39;49m\u001b[43m_language_detector\u001b[49m\u001b[38;5;241;43m.\u001b[39;49m\u001b[43mdetect\u001b[49m\u001b[43m(\u001b[49m\u001b[43mcontent\u001b[49m\u001b[43m)\u001b[49m\n\u001b[1;32m    242\u001b[0m \u001b[38;5;28;01mreturn\u001b[39;00m TikaraDetectLanguageResult(\n\u001b[1;32m    243\u001b[0m     language\u001b[38;5;241m=\u001b[39m\u001b[38;5;28mstr\u001b[39m(result\u001b[38;5;241m.\u001b[39mgetLanguage()),\n\u001b[1;32m    244\u001b[0m     confidence\u001b[38;5;241m=\u001b[39mLanguageConfidence(\u001b[38;5;28mstr\u001b[39m(result\u001b[38;5;241m.\u001b[39mgetConfidence()\u001b[38;5;241m.\u001b[39mname())),\n\u001b[1;32m    245\u001b[0m     raw_score\u001b[38;5;241m=\u001b[39m\u001b[38;5;28mfloat\u001b[39m(result\u001b[38;5;241m.\u001b[39mgetRawScore()),\n\u001b[1;32m    246\u001b[0m )\n",
                        "\u001b[0;31mTypeError\u001b[0m: No matching overloads found for org.apache.tika.language.detect.LanguageDetector.detect(PosixPath), options are:\n\tpublic org.apache.tika.language.detect.LanguageResult org.apache.tika.language.detect.LanguageDetector.detect(java.lang.CharSequence)\n\tpublic org.apache.tika.language.detect.LanguageResult org.apache.tika.language.detect.LanguageDetector.detect()\n"
                    ]
                }
            ],
            "source": [
                "result = tika.detect_language(input_file)\n",
                "\n",
                "result"
            ]
        }
    ],
    "metadata": {
        "kernelspec": {
            "display_name": ".venv",
            "language": "python",
            "name": "python3"
        },
        "language_info": {
            "codemirror_mode": {
                "name": "ipython",
                "version": 3
            },
            "file_extension": ".py",
            "mimetype": "text/x-python",
            "name": "python",
            "nbconvert_exporter": "python",
            "pygments_lexer": "ipython3",
            "version": "3.12.8"
        }
    },
    "nbformat": 4,
    "nbformat_minor": 2
}
