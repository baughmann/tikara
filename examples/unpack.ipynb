{
    "cells": [
        {
            "cell_type": "markdown",
            "metadata": {},
            "source": [
                "# Recursively unpack embedded documents with Tikara"
            ]
        },
        {
            "cell_type": "code",
            "execution_count": 1,
            "metadata": {},
            "outputs": [],
            "source": [
                "# 1. Instantiate tika\n",
                "\n",
                "from tikara import Tika\n",
                "\n",
                "\n",
                "tika = Tika()"
            ]
        },
        {
            "cell_type": "code",
            "execution_count": 2,
            "metadata": {},
            "outputs": [],
            "source": [
                "# 2. Pick an input file and output directory\n",
                "\n",
                "from pathlib import Path\n",
                "\n",
                "\n",
                "input_file = Path(\"../test/data/test_recursive_embedded.docx\")\n",
                "output_dir = Path(\"output\")"
            ]
        },
        {
            "cell_type": "code",
            "execution_count": 3,
            "metadata": {},
            "outputs": [
                {
                    "name": "stdout",
                    "output_type": "stream",
                    "text": [
                        "output/image1.emf\n",
                        "{'embeddedRelationshipId': 'rId6', 'embeddedResourceType': 'INLINE', 'resourceName': 'image1.emf', 'Content-Type': 'image/x-emf'}\n",
                        "output/embed1.zip\n",
                        "{'embeddedRelationshipId': 'rId7', 'embeddedResourceType': 'ATTACHMENT', 'resourceName': 'embed1.zip', 'X-TIKA:origResourceName': 'C:\\\\Users\\\\tallison\\\\AppData\\\\Local\\\\Temp\\\\embed1.zip'}\n",
                        "output/embed1/embed1a.txt\n",
                        "{'embeddedRelationshipId': 'embed1/embed1a.txt', 'resourceName': 'embed1/embed1a.txt', 'dcterms:modified': '2014-06-04T01:08:28Z', 'Content-Length': '8'}\n"
                    ]
                }
            ],
            "source": [
                "### 3. Extract text from the input file and view the result\n",
                "\n",
                "result = tika.unpack(input_file, output_dir, max_depth=10)\n",
                "\n",
                "for r in result:\n",
                "    print(r.file_path)\n",
                "    print(r.metadata)"
            ]
        }
    ],
    "metadata": {
        "kernelspec": {
            "display_name": ".venv",
            "language": "python",
            "name": "python3"
        },
        "language_info": {
            "codemirror_mode": {
                "name": "ipython",
                "version": 3
            },
            "file_extension": ".py",
            "mimetype": "text/x-python",
            "name": "python",
            "nbconvert_exporter": "python",
            "pygments_lexer": "ipython3",
            "version": "3.12.8"
        }
    },
    "nbformat": 4,
    "nbformat_minor": 2
}
