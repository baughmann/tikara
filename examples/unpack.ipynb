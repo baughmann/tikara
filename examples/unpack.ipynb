{
    "cells": [
        {
            "cell_type": "code",
            "execution_count": 1,
            "metadata": {},
            "outputs": [],
            "source": [
                "from tikara.tika import Tika\n",
                "\n",
                "\n",
                "tika = Tika()"
            ]
        },
        {
            "cell_type": "code",
            "execution_count": 2,
            "metadata": {},
            "outputs": [],
            "source": [
                "from pathlib import Path\n",
                "\n",
                "\n",
                "input_file = Path(\"../test/data/test_recursive_embedded.docx\")\n",
                "output_dir = Path(\"output\")"
            ]
        },
        {
            "cell_type": "code",
            "execution_count": 3,
            "metadata": {},
            "outputs": [],
            "source": [
                "result = tika.unpack(input_file, output_dir, max_depth=10)"
            ]
        },
        {
            "cell_type": "code",
            "execution_count": 4,
            "metadata": {},
            "outputs": [
                {
                    "data": {
                        "text/plain": [
                            "[TikaraUnpackedItem(metadata={'embeddedRelationshipId': 'rId6', 'embeddedResourceType': 'INLINE', 'resourceName': 'image1.emf', 'Content-Type': 'image/x-emf'}, file_path=PosixPath('output/image1.emf')),\n",
                            " TikaraUnpackedItem(metadata={'embeddedRelationshipId': 'rId7', 'embeddedResourceType': 'ATTACHMENT', 'resourceName': 'embed1.zip', 'X-TIKA:origResourceName': 'C:\\\\Users\\\\tallison\\\\AppData\\\\Local\\\\Temp\\\\embed1.zip'}, file_path=PosixPath('output/embed1.zip')),\n",
                            " TikaraUnpackedItem(metadata={'embeddedRelationshipId': 'embed1/embed1a.txt', 'resourceName': 'embed1/embed1a.txt', 'dcterms:modified': '2014-06-04T01:08:28Z', 'Content-Length': '8'}, file_path=PosixPath('output/embed1/embed1a.txt'))]"
                        ]
                    },
                    "execution_count": 4,
                    "metadata": {},
                    "output_type": "execute_result"
                }
            ],
            "source": [
                "result"
            ]
        },
        {
            "cell_type": "code",
            "execution_count": 5,
            "metadata": {},
            "outputs": [],
            "source": [
                "with open(input_file, \"rb\") as f:\n",
                "    bytes_content = f.read()\n",
                "    result = tika.unpack(obj=bytes_content, output_dir=output_dir, max_depth=10)"
            ]
        },
        {
            "cell_type": "code",
            "execution_count": 6,
            "metadata": {},
            "outputs": [
                {
                    "data": {
                        "text/plain": [
                            "[TikaraUnpackedItem(metadata={'embeddedRelationshipId': 'rId6', 'embeddedResourceType': 'INLINE', 'resourceName': 'image1.emf', 'Content-Type': 'image/x-emf'}, file_path=PosixPath('output/image1.emf')),\n",
                            " TikaraUnpackedItem(metadata={'embeddedRelationshipId': 'rId7', 'embeddedResourceType': 'ATTACHMENT', 'resourceName': 'embed1.zip', 'X-TIKA:origResourceName': 'C:\\\\Users\\\\tallison\\\\AppData\\\\Local\\\\Temp\\\\embed1.zip'}, file_path=PosixPath('output/embed1.zip')),\n",
                            " TikaraUnpackedItem(metadata={'embeddedRelationshipId': 'embed1/embed1a.txt', 'resourceName': 'embed1/embed1a.txt', 'dcterms:modified': '2014-06-04T01:08:28Z', 'Content-Length': '8'}, file_path=PosixPath('output/embed1/embed1a.txt'))]"
                        ]
                    },
                    "execution_count": 6,
                    "metadata": {},
                    "output_type": "execute_result"
                }
            ],
            "source": [
                "result"
            ]
        }
    ],
    "metadata": {
        "kernelspec": {
            "display_name": ".venv",
            "language": "python",
            "name": "python3"
        },
        "language_info": {
            "codemirror_mode": {
                "name": "ipython",
                "version": 3
            },
            "file_extension": ".py",
            "mimetype": "text/x-python",
            "name": "python",
            "nbconvert_exporter": "python",
            "pygments_lexer": "ipython3",
            "version": "3.12.8"
        }
    },
    "nbformat": 4,
    "nbformat_minor": 2
}
