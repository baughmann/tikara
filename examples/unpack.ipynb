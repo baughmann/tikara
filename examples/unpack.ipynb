{
    "cells": [
        {
            "cell_type": "markdown",
            "metadata": {},
            "source": [
                "# Recursively unpack embedded documents with Tikara"
            ]
        },
        {
            "cell_type": "code",
            "execution_count": 1,
            "metadata": {},
            "outputs": [],
            "source": [
                "# 1. Instantiate tika\n",
                "\n",
                "from tikara import Tika\n",
                "\n",
                "\n",
                "tika = Tika()"
            ]
        },
        {
            "cell_type": "code",
            "execution_count": 2,
            "metadata": {},
            "outputs": [],
            "source": [
                "# 2. Pick an input file and output directory\n",
                "\n",
                "from pathlib import Path\n",
                "\n",
                "\n",
                "input_file = Path(\"../test/data/test_recursive_embedded.docx\")\n",
                "output_dir = Path(\"output\")"
            ]
        },
        {
            "cell_type": "code",
            "execution_count": 3,
            "metadata": {},
            "outputs": [
                {
                    "name": "stdout",
                    "output_type": "stream",
                    "text": [
                        "output/image1.emf\n",
                        "encoding=None paragraph_count=None revision=None word_count=None line_count=None character_count=None character_count_with_spaces=None page_count=None chars_per_page=None table_count=None component_count=None image_count=None hidden_slides=None resource_name='image1.emf' resource_path=None embedded_resource_type='INLINE' embedded_relationship_id='rId6' embedded_depth=None created=None modified=None content_type='image/x-emf' content_type_override=None content_length=None title=None description=None type=None keywords=None company=None creator=None publisher=None contributor=None language=None identifier=None application=None application_version=None producer=None version=None template=None security=None is_encrypted=None height=None width=None pixel_aspect_ratio=None compression_type=None color_space=None audio_sample_rate=None audio_channels=None audio_bits=None audio_sample_type=None audio_encoding=None audio_duration=None audio_compression=None from_=None to=None cc=None bcc=None multipart_subtypes=None multipart_boundary=None raw_metadata={'embeddedRelationshipId': 'rId6', 'embeddedResourceType': 'INLINE', 'resourceName': 'image1.emf', 'Content-Type': 'image/x-emf'}\n",
                        "output/embed1.zip\n",
                        "encoding=None paragraph_count=None revision=None word_count=None line_count=None character_count=None character_count_with_spaces=None page_count=None chars_per_page=None table_count=None component_count=None image_count=None hidden_slides=None resource_name='embed1.zip' resource_path=None embedded_resource_type='ATTACHMENT' embedded_relationship_id='rId7' embedded_depth=None created=None modified=None content_type=None content_type_override=None content_length=None title=None description=None type=None keywords=None company=None creator=None publisher=None contributor=None language=None identifier=None application=None application_version=None producer=None version=None template=None security=None is_encrypted=None height=None width=None pixel_aspect_ratio=None compression_type=None color_space=None audio_sample_rate=None audio_channels=None audio_bits=None audio_sample_type=None audio_encoding=None audio_duration=None audio_compression=None from_=None to=None cc=None bcc=None multipart_subtypes=None multipart_boundary=None raw_metadata={'embeddedRelationshipId': 'rId7', 'embeddedResourceType': 'ATTACHMENT', 'resourceName': 'embed1.zip', 'X-TIKA:origResourceName': 'C:\\\\Users\\\\tallison\\\\AppData\\\\Local\\\\Temp\\\\embed1.zip'}\n",
                        "output/embed1/embed1a.txt\n",
                        "encoding=None paragraph_count=None revision=None word_count=None line_count=None character_count=None character_count_with_spaces=None page_count=None chars_per_page=None table_count=None component_count=None image_count=None hidden_slides=None resource_name='embed1/embed1a.txt' resource_path=None embedded_resource_type=None embedded_relationship_id='embed1/embed1a.txt' embedded_depth=None created=None modified='2014-06-04T01:08:28Z' content_type=None content_type_override=None content_length=8 title=None description=None type=None keywords=None company=None creator=None publisher=None contributor=None language=None identifier=None application=None application_version=None producer=None version=None template=None security=None is_encrypted=None height=None width=None pixel_aspect_ratio=None compression_type=None color_space=None audio_sample_rate=None audio_channels=None audio_bits=None audio_sample_type=None audio_encoding=None audio_duration=None audio_compression=None from_=None to=None cc=None bcc=None multipart_subtypes=None multipart_boundary=None raw_metadata={'embeddedRelationshipId': 'embed1/embed1a.txt', 'resourceName': 'embed1/embed1a.txt', 'dcterms:modified': '2014-06-04T01:08:28Z', 'Content-Length': '8'}\n"
                    ]
                }
            ],
            "source": [
                "### 3. Extract text from the input file and view the result\n",
                "\n",
                "result = tika.unpack(input_file, output_dir, max_depth=10)\n",
                "\n",
                "for child in result.embedded_documents:\n",
                "    print(child.file_path)\n",
                "    print(child.metadata)"
            ]
        },
        {
            "cell_type": "code",
            "execution_count": 4,
            "metadata": {},
            "outputs": [
                {
                    "data": {
                        "text/plain": [
                            "TikaUnpackedItem(metadata=TikaMetadata(encoding=None, paragraph_count=1, revision='1', word_count=4, line_count=1, character_count=28, character_count_with_spaces=31, page_count=1, chars_per_page=None, table_count=None, component_count=None, image_count=None, hidden_slides=None, resource_name='../test/data/test_recursive_embedded.docx', resource_path=None, embedded_resource_type=None, embedded_relationship_id=None, embedded_depth=None, created='2014-07-31T13:07:00Z', modified='2014-07-31T13:09:00Z', content_type='application/vnd.openxmlformats-officedocument.wordprocessingml.document', content_type_override=None, content_length=27082, title=None, description=None, type=None, keywords=None, company=None, creator=None, publisher=None, contributor=None, language=None, identifier=None, application='Microsoft Office Word', application_version='15.0000', producer=None, version=None, template='Normal.dotm', security='None', is_encrypted=None, height=None, width=None, pixel_aspect_ratio=None, compression_type=None, color_space=None, audio_sample_rate=None, audio_channels=None, audio_bits=None, audio_sample_type=None, audio_encoding=None, audio_duration=None, audio_compression=None, from_=None, to=None, cc=None, bcc=None, multipart_subtypes=None, multipart_boundary=None, raw_metadata={'cp:revision': '1', 'extended-properties:AppVersion': '15.0000', 'meta:paragraph-count': '1', 'meta:word-count': '4', 'extended-properties:Application': 'Microsoft Office Word', 'X-TIKA:Parsed-By-Full-Set': 'org.apache.tika.parser.DefaultParser', 'extended-properties:Company': '', 'xmpTPg:NPages': '1', 'resourceName': '../test/data/test_recursive_embedded.docx', 'dcterms:created': '2014-07-31T13:07:00Z', 'meta:line-count': '1', 'dcterms:modified': '2014-07-31T13:09:00Z', 'meta:character-count': '28', 'extended-properties:Template': 'Normal.dotm', 'meta:character-count-with-spaces': '31', 'X-TIKA:Parsed-By': 'org.apache.tika.parser.DefaultParser', 'extended-properties:DocSecurityString': 'None', 'Content-Length': '27082', 'meta:page-count': '1', 'Content-Type': 'application/vnd.openxmlformats-officedocument.wordprocessingml.document', 'dc:publisher': ''}), file_path=PosixPath('output/test_recursive_embedded.docx'))"
                        ]
                    },
                    "execution_count": 4,
                    "metadata": {},
                    "output_type": "execute_result"
                }
            ],
            "source": [
                "result.root_document"
            ]
        }
    ],
    "metadata": {
        "kernelspec": {
            "display_name": ".venv",
            "language": "python",
            "name": "python3"
        },
        "language_info": {
            "codemirror_mode": {
                "name": "ipython",
                "version": 3
            },
            "file_extension": ".py",
            "mimetype": "text/x-python",
            "name": "python",
            "nbconvert_exporter": "python",
            "pygments_lexer": "ipython3",
            "version": "3.12.8"
        }
    },
    "nbformat": 4,
    "nbformat_minor": 2
}
