{
    "cells": [
        {
            "cell_type": "markdown",
            "metadata": {},
            "source": [
                "# Parse document text content and metadata with Tikara"
            ]
        },
        {
            "cell_type": "code",
            "execution_count": 1,
            "metadata": {},
            "outputs": [],
            "source": [
                "# 1. Instantiate tika\n",
                "\n",
                "from tikara import Tika\n",
                "\n",
                "tika = Tika(lazy_load=True)"
            ]
        },
        {
            "cell_type": "code",
            "execution_count": 6,
            "metadata": {},
            "outputs": [],
            "source": [
                "# 2. Pick an input file\n",
                "\n",
                "from pathlib import Path\n",
                "\n",
                "\n",
                "# input_doc = Path(\"../test/data/demo.docx\")\n",
                "# input_doc = Path(\"../test/data/bad_xml.xml\")\n",
                "# input_doc = Path(\"../test/data/CantinaBand3.wav\")\n",
                "# input_doc = Path(\"../test/data/docx-shapes.docx\")\n",
                "# input_doc = Path(\"../test/data/category-level.docx\")\n",
                "# input_doc = Path(\"../test/data/fake-email.eml\")\n",
                "# input_doc = Path(\"../test/data/fake-email-multiple-attachments.msg\")\n",
                "# input_doc = Path(\"../test/data/docx-tables.docx\")\n",
                "# input_doc = Path(\"../test/data/emoji.xlsx\")\n",
                "# input_doc = Path(\"../test/data/testPDF_childAttachments.pdf\")\n",
                "# input_doc = Path(\"../test/data/science-exploration-369p.pptx\")\n",
                "# input_doc = Path(\"../test/data/simple.epub\")\n",
                "# input_doc = Path(\"../test/data/failure-after-repair.pdf\")\n",
                "input_doc = Path(\"../test/data/korean-text-with-tables.pdf\")"
            ]
        },
        {
            "cell_type": "code",
            "execution_count": 7,
            "metadata": {},
            "outputs": [
                {
                    "data": {
                        "text/plain": [
                            "(TikaMetadata(encoding=None, paragraph_count=None, revision=None, word_count=None, line_count=None, character_count=None, character_count_with_spaces=None, page_count=1, chars_per_page=1203, table_count=None, component_count=None, image_count=None, hidden_slides=None, resource_name='../test/data/korean-text-with-tables.pdf', resource_path=None, embedded_resource_type=None, embedded_relationship_id=None, embedded_depth=None, created=None, modified='2023-10-19T15:47:38Z', content_type='application/pdf', content_type_override=None, content_length=88314, title=None, description=None, type=None, keywords=None, company=None, creator='iLovePDF', publisher=None, contributor=None, language='ko', identifier=None, application=None, application_version=None, producer='iLovePDF', version='1.4', template=None, security=None, is_encrypted='false', height=None, width=None, pixel_aspect_ratio=None, compression_type=None, color_space=None, audio_sample_rate=None, audio_channels=None, audio_bits=None, audio_sample_type=None, audio_encoding=None, audio_duration=None, audio_compression=None, file_name=None, from_=None, to=None, cc=None, bcc=None, multipart_subtypes=None, multipart_boundary=None, raw_metadata={'pdf:unmappedUnicodeCharsPerPage': '0', 'pdf:PDFVersion': '1.4', 'pdf:hasXFA': 'false', 'access_permission:modify_annotations': 'true', 'X-TIKA:Parsed-By-Full-Set': 'org.apache.tika.parser.DefaultParser', 'pdf:num3DAnnotations': '0', 'dcterms:modified': '2023-10-19T15:47:38Z', 'dc:format': 'application/pdf; version=1.4', 'pdf:overallPercentageUnmappedUnicodeChars': '0.0', 'access_permission:fill_in_form': 'true', 'pdf:docinfo:modified': '2023-10-19T15:47:38Z', 'pdf:hasCollection': 'false', 'pdf:encrypted': 'false', 'pdf:containsNonEmbeddedFont': 'false', 'Content-Length': '88314', 'pdf:hasMarkedContent': 'false', 'pdf:ocrPageCount': '0', 'Content-Type': 'application/pdf', 'access_permission:can_print_faithful': 'true', 'dc:language': 'ko', 'pdf:producer': 'iLovePDF', 'pdf:totalUnmappedUnicodeChars': '0', 'access_permission:extract_for_accessibility': 'true', 'access_permission:assemble_document': 'true', 'xmpTPg:NPages': '1', 'resourceName': '../test/data/korean-text-with-tables.pdf', 'pdf:hasXMP': 'false', 'pdf:charsPerPage': '1203', 'access_permission:extract_content': 'true', 'access_permission:can_print': 'true', 'X-TIKA:Parsed-By': 'org.apache.tika.parser.DefaultParser', 'access_permission:can_modify': 'true', 'pdf:docinfo:producer': 'iLovePDF', 'pdf:containsDamagedFont': 'false'}),\n",
                            " '<?xml version=\"1.0\" encoding=\"UTF-8\"?>\\n<html xmlns=\"http://www.w3.org/1999/xhtml\">\\n<head>\\n<meta name=\"pdf:PDFVersion\" content=\"1.4\" />\\n<meta name=\"pdf:hasXFA\" content=\"false\" />\\n<meta name=\"access_permission:modify_annotations\" content=\"true\" />\\n<meta name=\"dcterms:modified\" content=\"2023-10-19T15:47:38Z\" />\\n<meta name=\"dc:format\" content=\"application/pdf; version=1.4\" />\\n<meta name=\"access_permission:fill_in_form\" content=\"true\" />\\n<meta name=\"pdf:docinfo:modified\" content=\"2023-10-19T15:47:38Z\" />\\n<meta name=\"pdf:hasCollection\" content=\"false\" />\\n<meta name=\"pdf:encrypted\" content=\"false\" />\\n<meta name=\"Content-Length\" content=\"88314\" />\\n<meta name=\"pdf:hasMarkedContent\" content=\"false\" />\\n<meta name=\"Content-Type\" content=\"application/pdf\" />\\n<meta name=\"access_permission:can_print_faithful\" content=\"true\" />\\n<meta name=\"dc:language\" content=\"ko\" />\\n<meta name=\"pdf:producer\" content=\"iLovePDF\" />\\n<meta name=\"access_permission:extract_for_accessibility\" content=\"true\" />\\n<meta name=\"access_permission:assemble_document\" content=\"true\" />\\n<meta name=\"xmpTPg:NPages\" content=\"1\" />\\n<meta name=\"resourceName\" content=\"../test/data/korean-text-with-tables.pdf\" />\\n<meta name=\"pdf:hasXMP\" content=\"false\" />\\n<meta name=\"access_permission:extract_content\" content=\"true\" />\\n<meta name=\"access_permission:can_print\" content=\"true\" />\\n<meta name=\"X-TIKA:Parsed-By\" content=\"org.apache.tika.parser.DefaultParser\" />\\n<meta name=\"X-TIKA:Parsed-By\" content=\"org.apache.tika.parser.pdf.PDFParser\" />\\n<meta name=\"access_permission:can_modify\" content=\"true\" />\\n<meta name=\"pdf:docinfo:producer\" content=\"iLovePDF\" />\\n<title></title>\\n</head>\\n<body><div class=\"page\"><p />\\n<p>50\\t 3\\t 940\\t 3\\t 9\\n</p>\\n<p>적립 제외 대상\\n</p>\\n<p>무이자할부, 다이어트할부, 삼성카드 할인이 적용된 일시불 및  \\n할부 이용금액, 기프트/선불카드(포인트, 사이버머니 등  \\n전자지급수단 포함) 구매 및 충전, 상품권 구매건\\n</p>\\n<p>기타\\n</p>\\n<p>*\\t\\t적립\\t혜택은\\t매출전표\\t접수\\t시점\\t기준으로\\t적용\\n</p>\\n<p>*\\t\\t삼성카드의\\t포인트는\\t빅포인트,\\t보너스포인트,\\t서비스포인트로\\t\\t\\n구분되며,\\t적립된\\t포인트는\\t합산하여\\t사용\\t가능(1\\t포인트\\t=\\t1원의\\t가치)\\n</p>\\n<p>*\\t\\t빅포인트의\\t유효기간은\\t5년으로,\\t유효기간\\t만료\\t시\\t월\\t단위로\\t자동\\t소멸\\n</p>\\n<p>*\\t\\t보너스클럽\\t이용\\t시\\t보너스포인트와\\t빅포인트\\t중\\t높은\\t적립률의\\t\\t\\n포인트\\t적립\\n</p>\\n<p>*\\t\\t포인트\\t사용에\\t대한\\t자세한\\t내용은\\t‘삼성카드\\t홈페이지(PC,\\t모바일)’\\n에서\\t확인\\n</p>\\n<p>서비스 제공 기준\\n</p>\\n<p>54\\n</p>\\n<p>적립한도 없이 할인점·주유·온라인쇼핑몰 1.5% 빅포인트 적립 적립한도 없이 커피전문점·제과점·편의점 2% 빅포인트 적립\\n</p>\\n<p>업종 적립 대상\\n</p>\\n<p>할인점 이마트,\\t이마트\\t트레이더스,\\t롯데마트,\\t홈플러스\\n</p>\\n<p>주유 모든\\t주유소\\n</p>\\n<p>온라인쇼핑몰 삼성카드\\t쇼핑,\\tG마켓,\\t옥션,\\t11번가,\\t인터파크,\\t\\t\\n쿠팡,\\t티몬,\\t위메프\\n</p>\\n<p>*\\t\\t전월\\t이용금액\\t40만원\\t이상\\t시\\t제공\\n</p>\\n<p>*\\t\\t발급월+1개월까지는\\t전월\\t이용금액\\t40만원\\t미만\\t시에도\\t제공\\n</p>\\n<p>*\\t 할인점은 온라인몰도 포함되며, 기업형 슈퍼마켓(이마트  \\n에브리데이, 홈플러스 익스프레스, 롯데슈퍼 등), 쇼핑 외 결제건\\n(상품권, 주차장 등), 임대매장은 제외\\n*\\t\\t주유는\\tLPG충전소\\t포함\\n</p>\\n<p>업종 적립 대상\\n</p>\\n<p>커피전문점 스타벅스,\\t투썸플레이스,\\t카페베네,\\t탐앤탐스,\\t\\t\\n커피빈,\\t엔제리너스,\\t할리스커피,\\t파스쿠찌,\\t\\t\\n아티제,\\t폴\\t바셋\\n</p>\\n<p>제과점 파리바게뜨,\\t뚜레쥬르\\n</p>\\n<p>편의점 CU,\\tGS25,\\t세븐일레븐,\\t미니스톱\\n</p>\\n<p>*\\t\\t전월\\t이용금액\\t40만원\\t이상\\t시\\t제공\\n</p>\\n<p>*\\t\\t발급월+1개월까지는\\t전월\\t이용금액\\t40만원\\t미만\\t시에도\\t제공\\n</p>\\n<p>*\\t\\t커피전문점은 오프라인 결제건에 한하며, 임대매장은 제외 \\n(단, 스타벅스의 경우, 사이렌오더 결제건도 혜택 제공)\\n*\\t\\t제과점은 오프라인 결제건에 한하며, 백화점, 할인점, 쇼핑몰 등의  \\n</p>\\n<p>임대매장은 제외\\n</p>\\n<p>할인점·주유·온라인쇼핑몰\\t\\n</p>\\n<p>1.5%\\t빅포인트\\t적립\\n커피전문점·제과점·편의점\\t\\n</p>\\n<p>2%\\t빅포인트\\t적립\\n</p>\\n<p>전월 이용금액 기준\\n</p>\\n<p>매월\\t1일부터\\t말일까지\\t이용한\\t일시불\\t및\\t할부\\t이용금액\\n</p>\\n<p>전월 이용금액 제외 대상\\n</p>\\n<p>건강보험/국민연금/고용보험/산재보험 및 장애인 고용부담금,  \\n국세/지방세/공과금, 대학 등록금, 대중교통, 택시, 아파트 관리비,  \\n기프트/선불카드(포인트, 사이버머니 등 전자지급수단 포함)  \\n구매 및 충전, 상품권 구매건</p>\\n<p />\\n</div>\\n</body></html>')"
                        ]
                    },
                    "execution_count": 7,
                    "metadata": {},
                    "output_type": "execute_result"
                }
            ],
            "source": [
                "# 3. Extract text from the input file to a byte stream \n",
                "#  This is an advanced use case, remove the output_stream parameter to get a string output\n",
                "\n",
                "output_stream, metadata = tika.parse(\n",
                "    obj=input_doc,\n",
                "    output_stream=True,\n",
                "    output_format=\"xhtml\"\n",
                ")\n",
                "\n",
                "metadata, output_stream.read().decode(\"utf-8\")"
            ]
        },
        {
            "cell_type": "code",
            "execution_count": 8,
            "metadata": {},
            "outputs": [
                {
                    "data": {
                        "text/plain": [
                            "{'page_count': 1,\n",
                            " 'chars_per_page': 1203,\n",
                            " 'resource_name': '../test/data/korean-text-with-tables.pdf',\n",
                            " 'modified': '2023-10-19T15:47:38Z',\n",
                            " 'content_type': 'application/pdf',\n",
                            " 'content_length': 88314,\n",
                            " 'creator': 'iLovePDF',\n",
                            " 'language': 'ko',\n",
                            " 'producer': 'iLovePDF',\n",
                            " 'version': '1.4',\n",
                            " 'is_encrypted': 'false'}"
                        ]
                    },
                    "execution_count": 8,
                    "metadata": {},
                    "output_type": "execute_result"
                }
            ],
            "source": [
                "metadata.model_dump(exclude_unset=True, exclude_none=True, exclude={\"raw_metadata\"})"
            ]
        },
        {
            "cell_type": "code",
            "execution_count": 9,
            "metadata": {},
            "outputs": [
                {
                    "data": {
                        "text/plain": [
                            "{'pdf:unmappedUnicodeCharsPerPage': '0',\n",
                            " 'pdf:PDFVersion': '1.4',\n",
                            " 'pdf:hasXFA': 'false',\n",
                            " 'access_permission:modify_annotations': 'true',\n",
                            " 'X-TIKA:Parsed-By-Full-Set': 'org.apache.tika.parser.DefaultParser',\n",
                            " 'pdf:num3DAnnotations': '0',\n",
                            " 'dcterms:modified': '2023-10-19T15:47:38Z',\n",
                            " 'dc:format': 'application/pdf; version=1.4',\n",
                            " 'pdf:overallPercentageUnmappedUnicodeChars': '0.0',\n",
                            " 'access_permission:fill_in_form': 'true',\n",
                            " 'pdf:docinfo:modified': '2023-10-19T15:47:38Z',\n",
                            " 'pdf:hasCollection': 'false',\n",
                            " 'pdf:encrypted': 'false',\n",
                            " 'pdf:containsNonEmbeddedFont': 'false',\n",
                            " 'Content-Length': '88314',\n",
                            " 'pdf:hasMarkedContent': 'false',\n",
                            " 'pdf:ocrPageCount': '0',\n",
                            " 'Content-Type': 'application/pdf',\n",
                            " 'access_permission:can_print_faithful': 'true',\n",
                            " 'dc:language': 'ko',\n",
                            " 'pdf:producer': 'iLovePDF',\n",
                            " 'pdf:totalUnmappedUnicodeChars': '0',\n",
                            " 'access_permission:extract_for_accessibility': 'true',\n",
                            " 'access_permission:assemble_document': 'true',\n",
                            " 'xmpTPg:NPages': '1',\n",
                            " 'resourceName': '../test/data/korean-text-with-tables.pdf',\n",
                            " 'pdf:hasXMP': 'false',\n",
                            " 'pdf:charsPerPage': '1203',\n",
                            " 'access_permission:extract_content': 'true',\n",
                            " 'access_permission:can_print': 'true',\n",
                            " 'X-TIKA:Parsed-By': 'org.apache.tika.parser.DefaultParser',\n",
                            " 'access_permission:can_modify': 'true',\n",
                            " 'pdf:docinfo:producer': 'iLovePDF',\n",
                            " 'pdf:containsDamagedFont': 'false'}"
                        ]
                    },
                    "execution_count": 9,
                    "metadata": {},
                    "output_type": "execute_result"
                }
            ],
            "source": [
                "metadata.raw_metadata"
            ]
        }
    ],
    "metadata": {
        "kernelspec": {
            "display_name": ".venv",
            "language": "python",
            "name": "python3"
        },
        "language_info": {
            "codemirror_mode": {
                "name": "ipython",
                "version": 3
            },
            "file_extension": ".py",
            "mimetype": "text/x-python",
            "name": "python",
            "nbconvert_exporter": "python",
            "pygments_lexer": "ipython3",
            "version": "3.12.8"
        }
    },
    "nbformat": 4,
    "nbformat_minor": 2
}
