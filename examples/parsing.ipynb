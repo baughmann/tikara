{
    "cells": [
        {
            "cell_type": "markdown",
            "metadata": {},
            "source": [
                "### 1. Instantiate tika"
            ]
        },
        {
            "cell_type": "code",
            "execution_count": 1,
            "metadata": {},
            "outputs": [],
            "source": [
                "from tikara import Tika as tikara\n",
                "\n",
                "tika = tikara(lazy_load=True)"
            ]
        },
        {
            "cell_type": "markdown",
            "metadata": {},
            "source": [
                "### 2. Pick an input file"
            ]
        },
        {
            "cell_type": "code",
            "execution_count": 2,
            "metadata": {},
            "outputs": [],
            "source": [
                "from pathlib import Path\n",
                "\n",
                "\n",
                "input_doc = Path(\"../test/data/demo.docx\")"
            ]
        },
        {
            "cell_type": "markdown",
            "metadata": {},
            "source": [
                "### 3. Extract text from the input file to a byte stream (advanced use case)"
            ]
        },
        {
            "cell_type": "code",
            "execution_count": 3,
            "metadata": {},
            "outputs": [
                {
                    "name": "stderr",
                    "output_type": "stream",
                    "text": [
                        "INFO  [main] 01:20:39,026 org.apache.tika.parser.ocr.TesseractOCRParser Tesseract is installed and is being invoked. This can add greatly to processing time.  If you do not want tesseract to be applied to your files see: https://cwiki.apache.org/confluence/display/TIKA/TikaOCR#TikaOCR-disable-ocr\n"
                    ]
                }
            ],
            "source": [
                "output_stream, metadata = tika.parse(\n",
                "    obj=input_doc,\n",
                "    output_stream=True,\n",
                "    output_format=\"xhtml\"\n",
                ")"
            ]
        },
        {
            "cell_type": "markdown",
            "metadata": {},
            "source": [
                "### 4. View the metadata of the input file"
            ]
        },
        {
            "cell_type": "code",
            "execution_count": 4,
            "metadata": {},
            "outputs": [
                {
                    "data": {
                        "text/plain": [
                            "{'cp:revision': '79',\n",
                            " 'dc:description': 'Demonstration of DOCX support in calibre',\n",
                            " 'extended-properties:AppVersion': '12.0000',\n",
                            " 'meta:paragraph-count': '20',\n",
                            " 'meta:word-count': '1518',\n",
                            " 'X-TIKA:Parsed-By-Full-Set': 'org.apache.tika.parser.DefaultParser',\n",
                            " 'dc:creator': 'Kovid Goyal',\n",
                            " 'extended-properties:Company': '',\n",
                            " 'dcterms:created': '2013-06-05T07:56:00Z',\n",
                            " 'meta:line-count': '72',\n",
                            " 'dcterms:modified': '2013-06-20T06:14:00Z',\n",
                            " 'meta:character-count': '8657',\n",
                            " 'meta:character-count-with-spaces': '10155',\n",
                            " 'dc:title': 'DOCX Demo',\n",
                            " 'extended-properties:TotalTime': '8540',\n",
                            " 'Content-Length': '1311881',\n",
                            " 'Content-Type': 'application/vnd.openxmlformats-officedocument.wordprocessingml.document',\n",
                            " 'dc:subject': 'calibre, docs, ebook, conversion',\n",
                            " 'extended-properties:Application': 'Microsoft Office Word',\n",
                            " 'meta:last-author': 'kovid',\n",
                            " 'xmpTPg:NPages': '3',\n",
                            " 'resourceName': '../test/data/demo.docx',\n",
                            " 'extended-properties:Template': 'Normal',\n",
                            " 'X-TIKA:Parsed-By': 'org.apache.tika.parser.DefaultParser',\n",
                            " 'extended-properties:DocSecurityString': 'None',\n",
                            " 'meta:keyword': 'calibre, docs, ebook, conversion',\n",
                            " 'meta:page-count': '3',\n",
                            " 'dc:publisher': ''}"
                        ]
                    },
                    "execution_count": 4,
                    "metadata": {},
                    "output_type": "execute_result"
                }
            ],
            "source": [
                "metadata"
            ]
        },
        {
            "cell_type": "markdown",
            "metadata": {},
            "source": [
                "### 5. Read the byte stream to a string and print the text"
            ]
        },
        {
            "cell_type": "code",
            "execution_count": null,
            "metadata": {},
            "outputs": [
                {
                    "ename": "NameError",
                    "evalue": "name 'content' is not defined",
                    "output_type": "error",
                    "traceback": [
                        "\u001b[0;31m---------------------------------------------------------------------------\u001b[0m",
                        "\u001b[0;31mNameError\u001b[0m                                 Traceback (most recent call last)",
                        "Cell \u001b[0;32mIn[5], line 1\u001b[0m\n\u001b[0;32m----> 1\u001b[0m \u001b[43mcontent\u001b[49m\u001b[38;5;241m.\u001b[39mdecode(\u001b[38;5;124m\"\u001b[39m\u001b[38;5;124mutf-8\u001b[39m\u001b[38;5;124m\"\u001b[39m)\n",
                        "\u001b[0;31mNameError\u001b[0m: name 'content' is not defined"
                    ]
                }
            ],
            "source": [
                "output_stream.read().decode(\"utf-8\")"
            ]
        }
    ],
    "metadata": {
        "kernelspec": {
            "display_name": ".venv",
            "language": "python",
            "name": "python3"
        },
        "language_info": {
            "codemirror_mode": {
                "name": "ipython",
                "version": 3
            },
            "file_extension": ".py",
            "mimetype": "text/x-python",
            "name": "python",
            "nbconvert_exporter": "python",
            "pygments_lexer": "ipython3",
            "version": "3.12.8"
        }
    },
    "nbformat": 4,
    "nbformat_minor": 2
}
