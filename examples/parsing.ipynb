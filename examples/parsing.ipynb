{
    "cells": [
        {
            "cell_type": "markdown",
            "metadata": {},
            "source": [
                "# Parse document text content and metadata with Tikara"
            ]
        },
        {
            "cell_type": "code",
            "execution_count": 1,
            "metadata": {},
            "outputs": [],
            "source": [
                "# 1. Instantiate tika\n",
                "\n",
                "from tikara import Tika\n",
                "\n",
                "tika = Tika(lazy_load=True)"
            ]
        },
        {
            "cell_type": "code",
            "execution_count": 2,
            "metadata": {},
            "outputs": [],
            "source": [
                "# 2. Pick an input file\n",
                "\n",
                "from pathlib import Path\n",
                "\n",
                "\n",
                "# input_doc = Path(\"../test/data/demo.docx\")\n",
                "# input_doc = Path(\"../test/data/bad_xml.xml\")\n",
                "# input_doc = Path(\"../test/data/CantinaBand3.wav\")\n",
                "# input_doc = Path(\"../test/data/docx-shapes.docx\")\n",
                "# input_doc = Path(\"../test/data/category-level.docx\")\n",
                "# input_doc = Path(\"../test/data/fake-email.eml\")\n",
                "# input_doc = Path(\"../test/data/fake-email-multiple-attachments.msg\")\n",
                "# input_doc = Path(\"../test/data/docx-tables.docx\")\n",
                "# input_doc = Path(\"../test/data/emoji.xlsx\")\n",
                "# input_doc = Path(\"../test/data/testPDF_childAttachments.pdf\")\n",
                "# input_doc = Path(\"../test/data/science-exploration-369p.pptx\")\n",
                "# input_doc = Path(\"../test/data/simple.epub\")\n",
                "# input_doc = Path(\"../test/data/failure-after-repair.pdf\")\n",
                "# input_doc = Path(\"../test/data/korean-text-with-tables.pdf\")\n",
                "# input_doc = Path(\"../test/data/docx-tables.docx\")\n",
                "# input_doc = Path(\"../test/data/big_buck_bunny_480p_h264.mov\")\n",
                "# input_doc = Path(\"../test/data/big_buck_bunny_480p_stereo.avi\")\n",
                "# input_doc = Path(\"../test/data/big_buck_bunny_480p_stereo.ogg\")\n",
                "# input_doc = Path(\"../test/data/Aimer-les-fourmis_fma-140809_001_00-01-39.wav\")\n",
                "input_doc = Path(\"../test/data/Arthur.mp3\")"
            ]
        },
        {
            "cell_type": "code",
            "execution_count": 3,
            "metadata": {},
            "outputs": [
                {
                    "data": {
                        "text/plain": [
                            "TikaMetadata(encoding=None, compression='MP3', paragraph_count=None, revision=None, word_count=None, line_count=None, character_count=None, character_count_with_spaces=None, page_count=None, chars_per_page=None, table_count=None, component_count=None, image_count=None, hidden_slides=None, resource_name='../test/data/Arthur.mp3', resource_path=None, embedded_resource_type=None, embedded_relationship_id=None, embedded_depth=None, created=None, modified=None, content_type='audio/mpeg', content_type_override=None, content_length=3197074, title=None, description=None, type=None, keywords=None, company=None, creator=None, publisher=None, contributor=None, language=None, identifier=None, application=None, application_version='MPEG 3 Layer III Version 1', producer=None, version=None, template=None, security=None, is_encrypted=None, height=None, width=None, duration=228.37692260742188, sample_rate=None, stream_count=None, image_pixel_aspect_ratio=None, image_color_space=None, audio_channels='Stereo', audio_bits=None, audio_sample_type=None, audio_encoding=None, video_frame_rate=None, video_codec=None, video_frame_count=None, from_=None, to=None, cc=None, bcc=None, multipart_subtypes=None, multipart_boundary=None, raw_metadata={'xmpDM:audioSampleRate': '44100', 'channels': '2', 'X-TIKA:Parsed-By': 'org.apache.tika.parser.DefaultParser', 'X-TIKA:Parsed-By-Full-Set': 'org.apache.tika.parser.DefaultParser', 'xmpDM:audioCompressor': 'MP3', 'resourceName': '../test/data/Arthur.mp3', 'Content-Length': '3197074', 'xmpDM:audioChannelType': 'Stereo', 'version': 'MPEG 3 Layer III Version 1', 'xmpDM:duration': '228.37692260742188', 'Content-Type': 'audio/mpeg', 'samplerate': '44100'})"
                        ]
                    },
                    "execution_count": 3,
                    "metadata": {},
                    "output_type": "execute_result"
                }
            ],
            "source": [
                "# 3. Extract text from the input file to a byte stream \n",
                "#  This is an advanced use case, remove the output_stream parameter to get a string output\n",
                "\n",
                "output_stream, metadata = tika.parse(\n",
                "    obj=input_doc,\n",
                "    output_stream=True,\n",
                "    output_format=\"xhtml\"\n",
                ")\n",
                "\n",
                "content = output_stream.read().decode(\"utf-8\")\n",
                "\n",
                "metadata"
            ]
        },
        {
            "cell_type": "code",
            "execution_count": 4,
            "metadata": {},
            "outputs": [
                {
                    "data": {
                        "text/plain": [
                            "{'compression': 'MP3',\n",
                            " 'resource_name': '../test/data/Arthur.mp3',\n",
                            " 'content_type': 'audio/mpeg',\n",
                            " 'content_length': 3197074,\n",
                            " 'application_version': 'MPEG 3 Layer III Version 1',\n",
                            " 'duration': 228.37692260742188,\n",
                            " 'audio_channels': 'Stereo'}"
                        ]
                    },
                    "execution_count": 4,
                    "metadata": {},
                    "output_type": "execute_result"
                }
            ],
            "source": [
                "metadata.model_dump(exclude_unset=True, exclude_none=True, exclude={\"raw_metadata\"})"
            ]
        },
        {
            "cell_type": "code",
            "execution_count": 5,
            "metadata": {},
            "outputs": [
                {
                    "data": {
                        "text/plain": [
                            "{'xmpDM:audioSampleRate': '44100',\n",
                            " 'channels': '2',\n",
                            " 'X-TIKA:Parsed-By': 'org.apache.tika.parser.DefaultParser',\n",
                            " 'X-TIKA:Parsed-By-Full-Set': 'org.apache.tika.parser.DefaultParser',\n",
                            " 'xmpDM:audioCompressor': 'MP3',\n",
                            " 'resourceName': '../test/data/Arthur.mp3',\n",
                            " 'Content-Length': '3197074',\n",
                            " 'xmpDM:audioChannelType': 'Stereo',\n",
                            " 'version': 'MPEG 3 Layer III Version 1',\n",
                            " 'xmpDM:duration': '228.37692260742188',\n",
                            " 'Content-Type': 'audio/mpeg',\n",
                            " 'samplerate': '44100'}"
                        ]
                    },
                    "execution_count": 5,
                    "metadata": {},
                    "output_type": "execute_result"
                }
            ],
            "source": [
                "metadata.raw_metadata"
            ]
        },
        {
            "cell_type": "code",
            "execution_count": 6,
            "metadata": {},
            "outputs": [
                {
                    "name": "stdout",
                    "output_type": "stream",
                    "text": [
                        "<html:html xmlns:html=\"http://www.w3.org/1999/xhtml\">\n",
                        "  <html:head>\n",
                        "    <html:meta name=\"xmpDM:audioSampleRate\" content=\"44100\" />\n",
                        "    <html:meta name=\"channels\" content=\"2\" />\n",
                        "    <html:meta name=\"X-TIKA:Parsed-By\" content=\"org.apache.tika.parser.DefaultParser\" />\n",
                        "    <html:meta name=\"X-TIKA:Parsed-By\" content=\"org.apache.tika.parser.mp3.Mp3Parser\" />\n",
                        "    <html:meta name=\"xmpDM:audioCompressor\" content=\"MP3\" />\n",
                        "    <html:meta name=\"resourceName\" content=\"../test/data/Arthur.mp3\" />\n",
                        "    <html:meta name=\"Content-Length\" content=\"3197074\" />\n",
                        "    <html:meta name=\"xmpDM:audioChannelType\" content=\"Stereo\" />\n",
                        "    <html:meta name=\"version\" content=\"MPEG 3 Layer III Version 1\" />\n",
                        "    <html:meta name=\"xmpDM:duration\" content=\"228.37692260742188\" />\n",
                        "    <html:meta name=\"Content-Type\" content=\"audio/mpeg\" />\n",
                        "    <html:meta name=\"samplerate\" content=\"44100\" />\n",
                        "    <html:title />\n",
                        "  </html:head>\n",
                        "  <html:body>\n",
                        "    <html:p>228.37692</html:p>\n",
                        "  </html:body>\n",
                        "</html:html>\n"
                    ]
                }
            ],
            "source": [
                "import xml.etree.ElementTree as ET\n",
                "\n",
                "tree = ET.fromstring(content)\n",
                "ET.indent(tree, space=\"  \")  # Available in Python 3.9+\n",
                "pretty_xml = ET.tostring(tree, encoding='unicode')\n",
                "print(pretty_xml)\n"
            ]
        }
    ],
    "metadata": {
        "kernelspec": {
            "display_name": ".venv",
            "language": "python",
            "name": "python3"
        },
        "language_info": {
            "codemirror_mode": {
                "name": "ipython",
                "version": 3
            },
            "file_extension": ".py",
            "mimetype": "text/x-python",
            "name": "python",
            "nbconvert_exporter": "python",
            "pygments_lexer": "ipython3",
            "version": "3.12.8"
        }
    },
    "nbformat": 4,
    "nbformat_minor": 2
}
