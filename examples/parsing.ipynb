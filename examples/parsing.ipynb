{
    "cells": [
        {
            "cell_type": "markdown",
            "metadata": {},
            "source": [
                "### 1. Instantiate tika"
            ]
        },
        {
            "cell_type": "code",
            "execution_count": 1,
            "metadata": {},
            "outputs": [],
            "source": [
                "from tikara import Tika as tikara\n",
                "\n",
                "tika = tikara(lazy_load=True)"
            ]
        },
        {
            "cell_type": "markdown",
            "metadata": {},
            "source": [
                "### 2. Pick an input file"
            ]
        },
        {
            "cell_type": "code",
            "execution_count": 2,
            "metadata": {},
            "outputs": [],
            "source": [
                "from pathlib import Path\n",
                "\n",
                "\n",
                "input_doc = Path(\"../test/data/demo.docx\")"
            ]
        },
        {
            "cell_type": "markdown",
            "metadata": {},
            "source": [
                "### 3. Extract text from the input file to a byte stream (advanced use case)"
            ]
        },
        {
            "cell_type": "code",
            "execution_count": 3,
            "metadata": {},
            "outputs": [
                {
                    "name": "stderr",
                    "output_type": "stream",
                    "text": [
                        "INFO  [main] 01:20:39,026 org.apache.tika.parser.ocr.TesseractOCRParser Tesseract is installed and is being invoked. This can add greatly to processing time.  If you do not want tesseract to be applied to your files see: https://cwiki.apache.org/confluence/display/TIKA/TikaOCR#TikaOCR-disable-ocr\n"
                    ]
                }
            ],
            "source": [
                "output_stream, metadata = tika.parse(\n",
                "    obj=input_doc,\n",
                "    output_stream=True,\n",
                "    output_format=\"xhtml\"\n",
                ")"
            ]
        },
        {
            "cell_type": "markdown",
            "metadata": {},
            "source": [
                "### 4. View the metadata of the input file"
            ]
        },
        {
            "cell_type": "code",
            "execution_count": 4,
            "metadata": {},
            "outputs": [
                {
                    "data": {
                        "text/plain": [
                            "{'cp:revision': '79',\n",
                            " 'dc:description': 'Demonstration of DOCX support in calibre',\n",
                            " 'extended-properties:AppVersion': '12.0000',\n",
                            " 'meta:paragraph-count': '20',\n",
                            " 'meta:word-count': '1518',\n",
                            " 'X-TIKA:Parsed-By-Full-Set': 'org.apache.tika.parser.DefaultParser',\n",
                            " 'dc:creator': 'Kovid Goyal',\n",
                            " 'extended-properties:Company': '',\n",
                            " 'dcterms:created': '2013-06-05T07:56:00Z',\n",
                            " 'meta:line-count': '72',\n",
                            " 'dcterms:modified': '2013-06-20T06:14:00Z',\n",
                            " 'meta:character-count': '8657',\n",
                            " 'meta:character-count-with-spaces': '10155',\n",
                            " 'dc:title': 'DOCX Demo',\n",
                            " 'extended-properties:TotalTime': '8540',\n",
                            " 'Content-Length': '1311881',\n",
                            " 'Content-Type': 'application/vnd.openxmlformats-officedocument.wordprocessingml.document',\n",
                            " 'dc:subject': 'calibre, docs, ebook, conversion',\n",
                            " 'extended-properties:Application': 'Microsoft Office Word',\n",
                            " 'meta:last-author': 'kovid',\n",
                            " 'xmpTPg:NPages': '3',\n",
                            " 'resourceName': '../test/data/demo.docx',\n",
                            " 'extended-properties:Template': 'Normal',\n",
                            " 'X-TIKA:Parsed-By': 'org.apache.tika.parser.DefaultParser',\n",
                            " 'extended-properties:DocSecurityString': 'None',\n",
                            " 'meta:keyword': 'calibre, docs, ebook, conversion',\n",
                            " 'meta:page-count': '3',\n",
                            " 'dc:publisher': ''}"
                        ]
                    },
                    "execution_count": 4,
                    "metadata": {},
                    "output_type": "execute_result"
                }
            ],
            "source": [
                "metadata"
            ]
        },
        {
            "cell_type": "markdown",
            "metadata": {},
            "source": [
                "### 5. Read the byte stream to a string and print the text"
            ]
        },
        {
            "cell_type": "code",
            "execution_count": 6,
            "metadata": {},
            "outputs": [
                {
                    "data": {
                        "text/plain": [
                            "'<?xml version=\"1.0\" encoding=\"UTF-8\"?>\\n<html xmlns=\"http://www.w3.org/1999/xhtml\">\\n<head>\\n<meta name=\"cp:revision\" content=\"79\" />\\n<meta name=\"dc:description\" content=\"Demonstration of DOCX support in calibre\" />\\n<meta name=\"extended-properties:AppVersion\" content=\"12.0000\" />\\n<meta name=\"meta:paragraph-count\" content=\"20\" />\\n<meta name=\"meta:word-count\" content=\"1518\" />\\n<meta name=\"dc:creator\" content=\"Kovid Goyal\" />\\n<meta name=\"extended-properties:Company\" content=\"\" />\\n<meta name=\"dcterms:created\" content=\"2013-06-05T07:56:00Z\" />\\n<meta name=\"meta:line-count\" content=\"72\" />\\n<meta name=\"dcterms:modified\" content=\"2013-06-20T06:14:00Z\" />\\n<meta name=\"meta:character-count\" content=\"8657\" />\\n<meta name=\"meta:character-count-with-spaces\" content=\"10155\" />\\n<meta name=\"dc:title\" content=\"DOCX Demo\" />\\n<meta name=\"extended-properties:TotalTime\" content=\"8540\" />\\n<meta name=\"Content-Length\" content=\"1311881\" />\\n<meta name=\"Content-Type\" content=\"application/vnd.openxmlformats-officedocument.wordprocessingml.document\" />\\n<meta name=\"dc:subject\" content=\"calibre, docs, ebook, conversion\" />\\n<meta name=\"extended-properties:Application\" content=\"Microsoft Office Word\" />\\n<meta name=\"meta:last-author\" content=\"kovid\" />\\n<meta name=\"xmpTPg:NPages\" content=\"3\" />\\n<meta name=\"resourceName\" content=\"../test/data/demo.docx\" />\\n<meta name=\"extended-properties:Template\" content=\"Normal\" />\\n<meta name=\"X-TIKA:Parsed-By\" content=\"org.apache.tika.parser.DefaultParser\" />\\n<meta name=\"X-TIKA:Parsed-By\" content=\"org.apache.tika.parser.microsoft.ooxml.OOXMLParser\" />\\n<meta name=\"extended-properties:DocSecurityString\" content=\"None\" />\\n<meta name=\"meta:keyword\" content=\"calibre, docs, ebook, conversion\" />\\n<meta name=\"meta:page-count\" content=\"3\" />\\n<meta name=\"dc:publisher\" content=\"\" />\\n<title>DOCX Demo</title>\\n</head>\\n<body><h1 class=\"title\"><a name=\"OLE_LINK1\" /><a name=\"OLE_LINK2\" /><a name=\"_Toc359077851\" />Demonstration of DOCX support in calibre</h1>\\n<p>This document demonstrates the ability of the calibre DOCX Input plugin to convert the various typographic features in a Microsoft Word (2007 and newer) document. Convert this document to a modern ebook format, such as AZW3 for Kindles or EPUB for other ebook readers, to see it in action.</p>\\n<p>There is support for images, tables, lists, footnotes, endnotes, links, dropcaps and various types of text and paragraph level formatting.</p>\\n<p>To see the DOCX conversion in action, simply add this file to calibre using the <b>“Add Books” </b>button and then click “<b>Convert”. </b> Set the output format in the top right corner of the conversion dialog to EPUB or AZW3 and click <b>“OK”</b>.</p>\\n<p />\\n<h1><a name=\"_Toc359077852\" />Text Formatting</h1>\\n<h2><a name=\"_Toc359077853\" />Inline formatting</h2>\\n<p>Here, we demonstrate various types of inline text formatting and the use of embedded fonts.</p>\\n<p>Here is some <b>bold, </b><i>italic, <b>bold-italic, </b></i><u>underlined </u>and <s>struck out </s> text. Then, we have a superscript and a subscript. Now we see some red, green and blue text. Some text with a yellow highlight. Some text in a box. Some text in inverse video.</p>\\n<p>A paragraph with styled text: subtle emphasis  followed by strong text and intense emphasis. This paragraph uses document wide styles for styling rather than inline text properties as demonstrated in the previous paragraph — calibre can handle both with equal ease.</p>\\n<h2><a name=\"_Toc359077854\" />Fun with fonts</h2>\\n<p>This document has embedded the Ubuntu font family. The body text is in the Ubuntu typeface, here is some text in the Ubuntu Mono typeface, notice how every letter has the same width, even i and m. Every embedded font will automatically be embedded in the output ebook during conversion. </p>\\n<h2><a name=\"_Paragraph_level_formatting\" /><a name=\"_Toc359077855\" /><b>Paragraph level formatting</b></h2>\\n<p>You can do crazy things with paragraphs, if the urge strikes you. For instance this paragraph is right aligned and has a right border. It has also been given a light gray background.</p>\\n<p>For the lovers of poetry amongst you, paragraphs with hanging indents, like this often come in handy. You can use hanging indents to ensure that a line of poetry retains its individual identity as a line even when the screen is  too narrow to display it as a single line. Not only does this paragraph have a hanging indent, it is also has an extra top margin, setting it apart from the preceding paragraph.</p>\\n<h1><a name=\"_Toc359077856\" />Tables</h1>\\n<table><tbody><tr>\\t<td><p>ITEM</p>\\n</td>\\t<td><p>NEEDED</p>\\n</td></tr>\\n<tr>\\t<td><p>Books</p>\\n</td>\\t<td><p>1</p>\\n</td></tr>\\n<tr>\\t<td><p>Pens</p>\\n</td>\\t<td><p>3</p>\\n</td></tr>\\n<tr>\\t<td><p>Pencils</p>\\n</td>\\t<td><p>2</p>\\n</td></tr>\\n<tr>\\t<td><p>Highlighter</p>\\n</td>\\t<td><p>2 colors</p>\\n</td></tr>\\n<tr>\\t<td><p>Scissors</p>\\n</td>\\t<td><p>1 pair</p>\\n</td></tr>\\n</tbody></table>\\n<p>Tables in Word can vary from the extremely simple to the extremely complex. calibre tries to do its best when converting tables. While you may run into trouble with the occasional table, the vast majority of common cases should be converted very well, as demonstrated in this section. Note that for optimum results, when creating tables in Word, you should set their widths using percentages, rather than absolute units.  To the left of this paragraph is a floating two column table with a nice green border and header row.</p>\\n<p>Now let’s look at a fancier table—one with alternating row colors and partial borders. This table is stretched out to take 100% of the available width.</p>\\n<table><tbody><tr>\\t<td><p>City or Town</p>\\n</td>\\t<td><p>Point A</p>\\n</td>\\t<td><p>Point B</p>\\n</td>\\t<td><p>Point C</p>\\n</td>\\t<td><p>Point D</p>\\n</td>\\t<td><p>Point E</p>\\n</td></tr>\\n<tr>\\t<td><p>Point A</p>\\n</td>\\t<td><p>—</p>\\n</td>\\t<td><p />\\n</td>\\t<td><p />\\n</td>\\t<td><p />\\n</td>\\t<td><p />\\n</td></tr>\\n<tr>\\t<td><p>Point B</p>\\n</td>\\t<td><p>87</p>\\n</td>\\t<td><p>—</p>\\n</td>\\t<td><p />\\n</td>\\t<td><p />\\n</td>\\t<td><p />\\n</td></tr>\\n<tr>\\t<td><p>Point C</p>\\n</td>\\t<td><p>64</p>\\n</td>\\t<td><p>56</p>\\n</td>\\t<td><p>—</p>\\n</td>\\t<td><p />\\n</td>\\t<td><p />\\n</td></tr>\\n<tr>\\t<td><p>Point D</p>\\n</td>\\t<td><p>37</p>\\n</td>\\t<td><p>32</p>\\n</td>\\t<td><p>91</p>\\n</td>\\t<td><p>—</p>\\n</td>\\t<td><p />\\n</td></tr>\\n<tr>\\t<td><p>Point E</p>\\n</td>\\t<td><p>93</p>\\n</td>\\t<td><p>35</p>\\n</td>\\t<td><p>54</p>\\n</td>\\t<td><p>43</p>\\n</td>\\t<td><p>—</p>\\n</td></tr>\\n</tbody></table>\\n<p />\\n<p>Next, we see a table with special formatting in various locations. Notice how the formatting for the header row and sub header rows is preserved.</p>\\n<table><tbody><tr>\\t<td><p>College</p>\\n</td>\\t<td><p>New students</p>\\n</td>\\t<td><p>Graduating students</p>\\n</td>\\t<td><p>Change</p>\\n</td></tr>\\n<tr>\\t<td><p />\\n</td>\\t<td><p>Undergraduate</p>\\n</td>\\t<td><p />\\n</td>\\t<td><p />\\n</td></tr>\\n<tr>\\t<td><p>Cedar University</p>\\n</td>\\t<td><p class=\"decimal_Aligned\">110</p>\\n</td>\\t<td><p class=\"decimal_Aligned\">103</p>\\n</td>\\t<td><p class=\"decimal_Aligned\">+7</p>\\n</td></tr>\\n<tr>\\t<td><p>Oak Institute</p>\\n</td>\\t<td><p class=\"decimal_Aligned\">202</p>\\n</td>\\t<td><p class=\"decimal_Aligned\">210</p>\\n</td>\\t<td><p class=\"decimal_Aligned\">-8</p>\\n</td></tr>\\n<tr>\\t<td><p />\\n</td>\\t<td><p>Graduate</p>\\n</td>\\t<td><p />\\n</td>\\t<td><p />\\n</td></tr>\\n<tr>\\t<td><p>Cedar University</p>\\n</td>\\t<td><p class=\"decimal_Aligned\">24</p>\\n</td>\\t<td><p class=\"decimal_Aligned\">20</p>\\n</td>\\t<td><p class=\"decimal_Aligned\">+4</p>\\n</td></tr>\\n<tr>\\t<td><p>Elm College</p>\\n</td>\\t<td><p class=\"decimal_Aligned\">43</p>\\n</td>\\t<td><p class=\"decimal_Aligned\">53</p>\\n</td>\\t<td><p class=\"decimal_Aligned\">-10</p>\\n</td></tr>\\n<tr>\\t<td><p>Total</p>\\n</td>\\t<td><p class=\"decimal_Aligned\">998</p>\\n</td>\\t<td><p class=\"decimal_Aligned\">908</p>\\n</td>\\t<td><p class=\"decimal_Aligned\">90</p>\\n</td></tr>\\n</tbody></table>\\n<p class=\"footnote_text\">Source: Fictitious data, for illustration purposes only</p>\\n<p>Next, we have something a little more complex, a nested table, i.e. a table inside another table. Additionally, the inner table has some of its cells merged. The table is displayed horizontally centered.</p>\\n<table><tbody><tr>\\t<td><table><tbody><tr>\\t<td><p>One</p>\\n<p>Three</p>\\n</td>\\t<td><p>Two</p>\\n</td></tr>\\n<tr>\\t<td><p />\\n</td>\\t<td><p>Four</p>\\n</td></tr>\\n</tbody></table>\\n<p />\\n</td>\\t<td><p>To the left is a table inside a table, with some cells merged.</p>\\n</td></tr>\\n</tbody></table>\\n<p />\\n<p>We end with a fancy calendar, note how much of the original formatting is preserved. Note that this table will only display correctly on relatively wide screens. In general, very wide tables or tables whose cells have fixed width requirements don’t fare well in ebooks.</p>\\n<table><tbody><tr>\\t<td><p>December 2007</p>\\n</td></tr>\\n<tr>\\t<td><p>Sun</p>\\n</td>\\t<td><p />\\n</td>\\t<td><p>Mon</p>\\n</td>\\t<td><p />\\n</td>\\t<td><p>Tue</p>\\n</td>\\t<td><p />\\n</td>\\t<td><p>Wed</p>\\n</td>\\t<td><p />\\n</td>\\t<td><p>Thu</p>\\n</td>\\t<td><p />\\n</td>\\t<td><p>Fri</p>\\n</td>\\t<td><p />\\n</td>\\t<td><p>Sat</p>\\n</td></tr>\\n<tr>\\t<td><p />\\n</td>\\t<td><p />\\n</td>\\t<td><p />\\n</td>\\t<td><p />\\n</td>\\t<td><p />\\n</td>\\t<td><p />\\n</td>\\t<td><p />\\n</td>\\t<td><p />\\n</td>\\t<td><p />\\n</td>\\t<td><p />\\n</td>\\t<td><p />\\n</td>\\t<td><p />\\n</td>\\t<td><p>1</p>\\n</td></tr>\\n<tr>\\t<td><p />\\n</td>\\t<td><p />\\n</td>\\t<td><p />\\n</td>\\t<td><p />\\n</td>\\t<td><p />\\n</td>\\t<td><p />\\n</td>\\t<td><p />\\n</td>\\t<td><p />\\n</td>\\t<td><p />\\n</td>\\t<td><p />\\n</td>\\t<td><p />\\n</td>\\t<td><p />\\n</td>\\t<td><p />\\n</td></tr>\\n<tr>\\t<td><p>2</p>\\n</td>\\t<td><p />\\n</td>\\t<td><p>3</p>\\n</td>\\t<td><p />\\n</td>\\t<td><p>4</p>\\n</td>\\t<td><p />\\n</td>\\t<td><p>5</p>\\n</td>\\t<td><p />\\n</td>\\t<td><p>6</p>\\n</td>\\t<td><p />\\n</td>\\t<td><p>7</p>\\n</td>\\t<td><p />\\n</td>\\t<td><p>8</p>\\n</td></tr>\\n<tr>\\t<td><p />\\n</td>\\t<td><p />\\n</td>\\t<td><p />\\n</td>\\t<td><p />\\n</td>\\t<td><p />\\n</td>\\t<td><p />\\n</td>\\t<td><p />\\n</td>\\t<td><p />\\n</td>\\t<td><p />\\n</td>\\t<td><p />\\n</td>\\t<td><p />\\n</td>\\t<td><p />\\n</td>\\t<td><p />\\n</td></tr>\\n<tr>\\t<td><p>9</p>\\n</td>\\t<td><p />\\n</td>\\t<td><p>10</p>\\n</td>\\t<td><p />\\n</td>\\t<td><p>11</p>\\n</td>\\t<td><p />\\n</td>\\t<td><p>12</p>\\n</td>\\t<td><p />\\n</td>\\t<td><p>13</p>\\n</td>\\t<td><p />\\n</td>\\t<td><p>14</p>\\n</td>\\t<td><p />\\n</td>\\t<td><p>15</p>\\n</td></tr>\\n<tr>\\t<td><p />\\n</td>\\t<td><p />\\n</td>\\t<td><p />\\n</td>\\t<td><p />\\n</td>\\t<td><p />\\n</td>\\t<td><p />\\n</td>\\t<td><p />\\n</td>\\t<td><p />\\n</td>\\t<td><p />\\n</td>\\t<td><p />\\n</td>\\t<td><p />\\n</td>\\t<td><p />\\n</td>\\t<td><p />\\n</td></tr>\\n<tr>\\t<td><p>16</p>\\n</td>\\t<td><p />\\n</td>\\t<td><p>17</p>\\n</td>\\t<td><p />\\n</td>\\t<td><p>18</p>\\n</td>\\t<td><p />\\n</td>\\t<td><p>19</p>\\n</td>\\t<td><p />\\n</td>\\t<td><p>20</p>\\n</td>\\t<td><p />\\n</td>\\t<td><p>21</p>\\n</td>\\t<td><p />\\n</td>\\t<td><p>22</p>\\n</td></tr>\\n<tr>\\t<td><p />\\n</td>\\t<td><p />\\n</td>\\t<td><p />\\n</td>\\t<td><p />\\n</td>\\t<td><p />\\n</td>\\t<td><p />\\n</td>\\t<td><p />\\n</td>\\t<td><p />\\n</td>\\t<td><p />\\n</td>\\t<td><p />\\n</td>\\t<td><p />\\n</td>\\t<td><p />\\n</td>\\t<td><p />\\n</td></tr>\\n<tr>\\t<td><p>23</p>\\n</td>\\t<td><p />\\n</td>\\t<td><p>24</p>\\n</td>\\t<td><p />\\n</td>\\t<td><p>25</p>\\n</td>\\t<td><p />\\n</td>\\t<td><p>26</p>\\n</td>\\t<td><p />\\n</td>\\t<td><p>27</p>\\n</td>\\t<td><p />\\n</td>\\t<td><p>28</p>\\n</td>\\t<td><p />\\n</td>\\t<td><p>29</p>\\n</td></tr>\\n<tr>\\t<td><p />\\n</td>\\t<td><p />\\n</td>\\t<td><p />\\n</td>\\t<td><p />\\n</td>\\t<td><p />\\n</td>\\t<td><p />\\n</td>\\t<td><p />\\n</td>\\t<td><p />\\n</td>\\t<td><p />\\n</td>\\t<td><p />\\n</td>\\t<td><p />\\n</td>\\t<td><p />\\n</td>\\t<td><p />\\n</td></tr>\\n<tr>\\t<td><p>30</p>\\n</td>\\t<td><p />\\n</td>\\t<td><p>31</p>\\n</td>\\t<td><p />\\n</td>\\t<td><p />\\n</td>\\t<td><p />\\n</td>\\t<td><p />\\n</td>\\t<td><p />\\n</td>\\t<td><p />\\n</td>\\t<td><p />\\n</td>\\t<td><p />\\n</td>\\t<td><p />\\n</td>\\t<td><p />\\n</td></tr>\\n</tbody></table>\\n<h1><a name=\"_Toc359077857\" />Structural Elements</h1>\\n<p>Miscellaneous structural elements you can add to your document, like footnotes, endnotes, dropcaps and the like. </p>\\n<h2><a name=\"_Toc359077858\" />Footnotes &amp; Endnotes</h2>\\n<p>Footnotes[footnoteRef:2] and endnotes[endnoteRef:2] are automatically recognized and both are converted to endnotes, with backlinks for maximum ease of use in ebook devices. [2:  In paged media, footnotes are usually displayed at the bottom of the text. However, in ebooks, a better paradigm is to make them clickable endnotes that the user can browse at her pleasure. This conversion is handled automatically by calibre.]  [2:  Endnotes are typically used for longer notes, they remain endnotes when converted into ebook form, except that they have an additional backlink to make it easy to return to the current position after reading the note.] \\n</p>\\n<h2><a name=\"_Toc359077859\" />Dropcaps</h2>\\n<p>D</p>\\n<p>rop caps are used to emphasize the leading paragraph at the start of a section. In Word it is possible to specify how many lines of text a drop-cap should use. Because of limitations in ebook technology, this is not possible when converting.  Instead, the converted drop cap will use font size and line height to simulate the effect as well as possible. While not as good as the original, the result is usually tolerable. This paragraph has a “D” dropcap set to occupy three lines of text with a font size of 58.5 pts. Depending on the screen width and capabilities of the device you view the book on, this dropcap can look anything from perfect to ugly.</p>\\n<h2><a name=\"_Toc359077860\" />Links</h2>\\n<p>Two kinds of links are possible, those that refer to an external website and those that refer to locations inside the document itself. Both are supported by calibre. For example, here is a link pointing to the <a href=\"http://calibre-ebook.com/download\">calibre download page</a>. Then we have a link that points back to the section on <a href=\"#_Paragraph_level_formatting\">paragraph level formatting</a> in this document.</p>\\n<h2><a name=\"_Toc359077861\" />Table of Contents</h2>\\n<p>There are two approaches that calibre takes when generating a Table of Contents. The first is if the Word document has a Table of Contents itself. Provided that the Table of Contents uses hyperlinks, calibre will automatically use it. The levels of the Table of Contents are identified by their left indent, so if you want the ebook to have a multi-level Table of Contents, make sure you create a properly indented Table of Contents in Word.</p>\\n<p>If no Table of Contents is found in the document, then a table of contents is automatically generated from the headings in the document. A heading is identified as something that has the Heading 1 or Heading 2, etc. style applied to it. These headings are turned into a Table of Contents with Heading 1 being the topmost level, Heading 2 the second level and so on.</p>\\n<p> You can see the Table of Contents created by calibre by clicking the Table of Contents button in whatever viewer you are using to view the converted ebook. </p>\\n<p class=\"toc_1\"><a href=\"#_Toc359077851\">Demonstration of DOCX support in calibre</a><a href=\"#_Toc359077851\">\\t</a><a href=\"#_Toc359077851\" /><a href=\"#_Toc359077851\" /><a href=\"#_Toc359077851\" /><a href=\"#_Toc359077851\" /><a href=\"#_Toc359077851\">1</a><a href=\"#_Toc359077851\" /></p>\\n<p class=\"toc_1\"><a href=\"#_Toc359077852\">Text Formatting</a><a href=\"#_Toc359077852\">\\t</a><a href=\"#_Toc359077852\" /><a href=\"#_Toc359077852\" /><a href=\"#_Toc359077852\" /><a href=\"#_Toc359077852\" /><a href=\"#_Toc359077852\">2</a><a href=\"#_Toc359077852\" /></p>\\n<p class=\"toc_2\"><a href=\"#_Toc359077853\">Inline formatting</a><a href=\"#_Toc359077853\">\\t</a><a href=\"#_Toc359077853\" /><a href=\"#_Toc359077853\" /><a href=\"#_Toc359077853\" /><a href=\"#_Toc359077853\" /><a href=\"#_Toc359077853\">2</a><a href=\"#_Toc359077853\" /></p>\\n<p class=\"toc_2\"><a href=\"#_Toc359077854\">Fun with fonts</a><a href=\"#_Toc359077854\">\\t</a><a href=\"#_Toc359077854\" /><a href=\"#_Toc359077854\" /><a href=\"#_Toc359077854\" /><a href=\"#_Toc359077854\" /><a href=\"#_Toc359077854\">2</a><a href=\"#_Toc359077854\" /></p>\\n<p class=\"toc_2\"><a href=\"#_Toc359077855\">Paragraph level formatting</a><a href=\"#_Toc359077855\">\\t</a><a href=\"#_Toc359077855\" /><a href=\"#_Toc359077855\" /><a href=\"#_Toc359077855\" /><a href=\"#_Toc359077855\" /><a href=\"#_Toc359077855\">2</a><a href=\"#_Toc359077855\" /></p>\\n<p class=\"toc_1\"><a href=\"#_Toc359077856\">Tables</a><a href=\"#_Toc359077856\">\\t</a><a href=\"#_Toc359077856\" /><a href=\"#_Toc359077856\" /><a href=\"#_Toc359077856\" /><a href=\"#_Toc359077856\" /><a href=\"#_Toc359077856\">3</a><a href=\"#_Toc359077856\" /></p>\\n<p class=\"toc_1\"><a href=\"#_Toc359077857\">Structural Elements</a><a href=\"#_Toc359077857\">\\t</a><a href=\"#_Toc359077857\" /><a href=\"#_Toc359077857\" /><a href=\"#_Toc359077857\" /><a href=\"#_Toc359077857\" /><a href=\"#_Toc359077857\">5</a><a href=\"#_Toc359077857\" /></p>\\n<p class=\"toc_2\"><a href=\"#_Toc359077858\">Footnotes &amp; Endnotes</a><a href=\"#_Toc359077858\">\\t</a><a href=\"#_Toc359077858\" /><a href=\"#_Toc359077858\" /><a href=\"#_Toc359077858\" /><a href=\"#_Toc359077858\" /><a href=\"#_Toc359077858\">5</a><a href=\"#_Toc359077858\" /></p>\\n<p class=\"toc_2\"><a href=\"#_Toc359077859\">Dropcaps</a><a href=\"#_Toc359077859\">\\t</a><a href=\"#_Toc359077859\" /><a href=\"#_Toc359077859\" /><a href=\"#_Toc359077859\" /><a href=\"#_Toc359077859\" /><a href=\"#_Toc359077859\">5</a><a href=\"#_Toc359077859\" /></p>\\n<p class=\"toc_2\"><a href=\"#_Toc359077860\">Links</a><a href=\"#_Toc359077860\">\\t</a><a href=\"#_Toc359077860\" /><a href=\"#_Toc359077860\" /><a href=\"#_Toc359077860\" /><a href=\"#_Toc359077860\" /><a href=\"#_Toc359077860\">5</a><a href=\"#_Toc359077860\" /></p>\\n<p class=\"toc_2\"><a href=\"#_Toc359077861\">Table of Contents</a><a href=\"#_Toc359077861\">\\t</a><a href=\"#_Toc359077861\" /><a href=\"#_Toc359077861\" /><a href=\"#_Toc359077861\" /><a href=\"#_Toc359077861\" /><a href=\"#_Toc359077861\">5</a><a href=\"#_Toc359077861\" /></p>\\n<p class=\"toc_1\"><a href=\"#_Toc359077862\">Images</a><a href=\"#_Toc359077862\">\\t</a><a href=\"#_Toc359077862\" /><a href=\"#_Toc359077862\" /><a href=\"#_Toc359077862\" /><a href=\"#_Toc359077862\" /><a href=\"#_Toc359077862\">7</a><a href=\"#_Toc359077862\" /></p>\\n<p class=\"toc_1\"><a href=\"#_Toc359077863\">Lists</a><a href=\"#_Toc359077863\">\\t</a><a href=\"#_Toc359077863\" /><a href=\"#_Toc359077863\" /><a href=\"#_Toc359077863\" /><a href=\"#_Toc359077863\" /><a href=\"#_Toc359077863\">8</a><a href=\"#_Toc359077863\" /></p>\\n<p class=\"toc_2\"><a href=\"#_Toc359077864\">Bulleted List</a><a href=\"#_Toc359077864\">\\t</a><a href=\"#_Toc359077864\" /><a href=\"#_Toc359077864\" /><a href=\"#_Toc359077864\" /><a href=\"#_Toc359077864\" /><a href=\"#_Toc359077864\">8</a><a href=\"#_Toc359077864\" /></p>\\n<p class=\"toc_2\"><a href=\"#_Toc359077865\">Numbered List</a><a href=\"#_Toc359077865\">\\t</a><a href=\"#_Toc359077865\" /><a href=\"#_Toc359077865\" /><a href=\"#_Toc359077865\" /><a href=\"#_Toc359077865\" /><a href=\"#_Toc359077865\">8</a><a href=\"#_Toc359077865\" /></p>\\n<p class=\"toc_2\"><a href=\"#_Toc359077866\">Multi-level Lists</a><a href=\"#_Toc359077866\">\\t</a><a href=\"#_Toc359077866\" /><a href=\"#_Toc359077866\" /><a href=\"#_Toc359077866\" /><a href=\"#_Toc359077866\" /><a href=\"#_Toc359077866\">8</a><a href=\"#_Toc359077866\" /></p>\\n<p class=\"toc_2\"><a href=\"#_Toc359077867\">Continued Lists</a><a href=\"#_Toc359077867\">\\t</a><a href=\"#_Toc359077867\" /><a href=\"#_Toc359077867\" /><a href=\"#_Toc359077867\" /><a href=\"#_Toc359077867\" /><a href=\"#_Toc359077867\">8</a><a href=\"#_Toc359077867\" /></p>\\n<p><b /></p>\\n<p />\\n<h1><a name=\"_Toc359077862\" />Images</h1>\\n<p>Images can be of three main types. Inline images are images that are part of the normal text flow, like this image of a green dot <img src=\"embedded:image2.png\" alt=\"\" />. Inline images do not cause breaks in the text and are usually small in size.<img src=\"embedded:image3.png\" alt=\"\" /> The next category of image is a floating image, one that “floats “ on the page and is surrounded by text. Word supports more types of floating images than are possible with current ebook technology, so the conversion maps floating images to simple left and right floats, as you can see with the left and right arrow images on the sides of this paragraph.</p>\\n<p>The final type of image is a “block” image, one that becomes a paragraph on its own and has no text on either side. Below is a centered green dot.</p>\\n<p><img src=\"embedded:image2.png\" alt=\"\" /><img src=\"embedded:image4.png\" alt=\"\" />Centered images like this are useful for large pictures that should be a focus of attention. </p>\\n<p>Generally, it is not possible to translate the exact positioning of images from a Word document to an ebook. That is because in Word, image positioning is specified in absolute units from the page boundaries.  There is no analogous technology in ebooks, so the conversion will usually end up placing the image either centered or floating close to the point in the text where it was inserted, not necessarily where it appears on the page in Word.</p>\\n<h1><a name=\"_Toc359077863\" />Lists</h1>\\n<p>All types of lists are supported by the conversion, with the exception of lists that use fancy bullets, these get converted to regular bullets.</p>\\n<h2><a name=\"_Toc359077864\" />Bulleted List</h2>\\n<p class=\"list_Paragraph\">· One</p>\\n<p class=\"list_Paragraph\">· Two</p>\\n<h2><a name=\"_Toc359077865\" />Numbered List</h2>\\n<p class=\"list_Paragraph\">1. One, with a very long line to demonstrate that the hanging indent for the list is working correctly</p>\\n<p class=\"list_Paragraph\">2. Two</p>\\n<h2><a name=\"_Toc359077866\" />Multi-level Lists</h2>\\n<p class=\"list_Paragraph\">1. One</p>\\n<p class=\"list_Paragraph\">1.1. Two</p>\\n<p class=\"list_Paragraph\">1.1.1. Three</p>\\n<p class=\"list_Paragraph\">1.1.2. Four with a very long line to demonstrate that the hanging indent for the list is working correctly.</p>\\n<p class=\"list_Paragraph\">1.1.3. Five</p>\\n<p class=\"list_Paragraph\">2. Six</p>\\n<p class=\"list_Paragraph\">A Multi-level list with bullets:</p>\\n<p class=\"list_Paragraph\">· One</p>\\n<p class=\"list_Paragraph\">· Two</p>\\n<p class=\"list_Paragraph\">· This bullet uses an image as the bullet item</p>\\n<p class=\"list_Paragraph\">· Four</p>\\n<p class=\"list_Paragraph\">· Five</p>\\n<h2><a name=\"_Toc359077867\" />Continued Lists</h2>\\n<p class=\"list_Paragraph\">i. One</p>\\n<p class=\"list_Paragraph\">ii. Two</p>\\n<p class=\"list_Paragraph\">An interruption in our regularly scheduled listing, for this essential and very relevant public service announcement.</p>\\n<p class=\"list_Paragraph\">iii. We now resume our normal programming</p>\\n<p class=\"list_Paragraph\">iv. Four</p>\\n<p />\\n<p />\\n<div class=\"package-entry\"><h1>image2.png</h1>\\n<div class=\"ocr\" />\\n\\n\\n</div>\\n<div class=\"package-entry\"><h1>image3.png</h1>\\n<div class=\"ocr\" />\\n\\n\\n</div>\\n<div class=\"package-entry\"><h1>image4.png</h1>\\n<div class=\"ocr\" />\\n\\n\\n</div>\\n</body></html>'"
                        ]
                    },
                    "execution_count": 6,
                    "metadata": {},
                    "output_type": "execute_result"
                }
            ],
            "source": [
                "output_stream.read().decode(\"utf-8\")"
            ]
        }
    ],
    "metadata": {
        "kernelspec": {
            "display_name": ".venv",
            "language": "python",
            "name": "python3"
        },
        "language_info": {
            "codemirror_mode": {
                "name": "ipython",
                "version": 3
            },
            "file_extension": ".py",
            "mimetype": "text/x-python",
            "name": "python",
            "nbconvert_exporter": "python",
            "pygments_lexer": "ipython3",
            "version": "3.12.8"
        }
    },
    "nbformat": 4,
    "nbformat_minor": 2
}
