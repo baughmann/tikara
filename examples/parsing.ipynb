{
    "cells": [
        {
            "cell_type": "markdown",
            "metadata": {},
            "source": [
                "# Parse document text content and metadata with Tikara"
            ]
        },
        {
            "cell_type": "code",
            "execution_count": 1,
            "metadata": {},
            "outputs": [],
            "source": [
                "# 1. Instantiate tika\n",
                "\n",
                "from tikara import Tika\n",
                "\n",
                "tika = Tika(lazy_load=True)"
            ]
        },
        {
            "cell_type": "code",
            "execution_count": 2,
            "metadata": {},
            "outputs": [],
            "source": [
                "# 2. Pick an input file\n",
                "\n",
                "from pathlib import Path\n",
                "\n",
                "\n",
                "# input_doc = Path(\"../test/data/demo.docx\")\n",
                "# input_doc = Path(\"../test/data/bad_xml.xml\")\n",
                "# input_doc = Path(\"../test/data/CantinaBand3.wav\")\n",
                "# input_doc = Path(\"../test/data/docx-shapes.docx\")\n",
                "# input_doc = Path(\"../test/data/category-level.docx\")\n",
                "# input_doc = Path(\"../test/data/fake-email.eml\")\n",
                "# input_doc = Path(\"../test/data/fake-email-multiple-attachments.msg\")\n",
                "# input_doc = Path(\"../test/data/docx-tables.docx\")\n",
                "# input_doc = Path(\"../test/data/emoji.xlsx\")\n",
                "# input_doc = Path(\"../test/data/testPDF_childAttachments.pdf\")\n",
                "# input_doc = Path(\"../test/data/science-exploration-369p.pptx\")\n",
                "# input_doc = Path(\"../test/data/simple.epub\")\n",
                "# input_doc = Path(\"../test/data/failure-after-repair.pdf\")\n",
                "# input_doc = Path(\"../test/data/korean-text-with-tables.pdf\")\n",
                "# input_doc = Path(\"../test/data/docx-tables.docx\")\n",
                "input_doc = Path(\"../test/data/BigBuckBunny_320x180.mp4\")\n",
                "# input_doc = Path(\"../test/data/Aimer-les-fourmis_fma-140809_001_00-01-39.wav\")\n",
                "# input_doc = Path(\"../test/data/Arthur.mp3\")"
            ]
        },
        {
            "cell_type": "code",
            "execution_count": 3,
            "metadata": {},
            "outputs": [
                {
                    "data": {
                        "text/plain": [
                            "TikaMetadata(encoding=None, compression='avc1', paragraph_count=None, revision=None, word_count=None, line_count=None, character_count=None, character_count_with_spaces=None, page_count=None, chars_per_page=None, table_count=None, component_count=None, image_count=None, hidden_slides=None, resource_name='../test/data/BigBuckBunny_320x180.mp4', resource_path=None, embedded_resource_type=None, embedded_relationship_id=None, embedded_depth=None, created=None, modified='2025:01:28 10:15:00-05:00', content_type='video/mp4', content_type_override=None, content_length=64657027, title='Big Buck Bunny', description=None, type=None, keywords=None, company=None, creator='Blender Foundation', publisher=None, contributor=None, language=None, identifier=None, application=None, application_version=None, producer=None, version=None, template=None, security=None, is_encrypted=None, height=180, width=320, duration='0:09:56', sample_rate=None, stream_count=None, image_pixel_aspect_ratio=None, image_color_space=None, audio_channels=None, audio_bits=None, audio_sample_type=None, audio_encoding=None, video_frame_rate=None, video_codec=None, video_frame_count=None, from_=None, to=None, cc=None, bcc=None, multipart_subtypes=None, multipart_boundary=None, raw_metadata={'Artist': 'Blender Foundation', 'Minor Version': '0.2.0', 'Next Track ID': '3', 'Modify Date': '0000:00:00 00:00:00', 'Media Modify Date': '0000:00:00 00:00:00', 'Current Time': '0 s', 'X-TIKA:Parsed-By-Full-Set': 'org.apache.tika.parser.DefaultParser', 'Track Layer': '0', 'File Type Extension': 'mp4', 'Media Duration': '0:09:56', 'Graphics Mode': 'srcCopy', 'Time Scale': '1000', 'Track Header Version': '0', 'X Resolution': '72', 'Handler Description': 'SoundHandler', 'Media Language Code': 'und', 'Audio Bits Per Sample': '16', 'Audio Channels': '2', 'Encoder': 'Lavf52.14.0', 'Media Data Offset': '36', 'Poster Time': '0 s', 'Media Header Version': '0', 'Create Date': '0000:00:00 00:00:00', 'ExifTool Version Number': '12.76', 'Track ID': '1', 'Movie Header Version': '0', 'Preferred Rate': '1', 'File Inode Change Date/Time': '2025:01:28 10:15:00-05:00', 'File Type': 'MP4', 'resourceName': '../test/data/BigBuckBunny_320x180.mp4', 'Duration': '0:09:56', 'Image Size': '320x180', 'Compressor ID': 'avc1', 'File Access Date/Time': '2025:01:28 10:15:00-05:00', 'Major Brand': 'MP4 Base Media v1 [IS0 14496-12:2003]', 'Track Volume': '0.00', 'Audio Sample Rate': '48000', 'File Modification Date/Time': '2025:01:28 10:15:00-05:00', 'File Permissions': '-rw-rw-r--', 'Megapixels': '0.058', 'X-TIKA:Parsed-By': 'org.apache.tika.parser.DefaultParser', 'Preferred Volume': '100.00', 'Track Duration': '0:09:56', 'Selection Duration': '0 s', 'Preview Duration': '0 s', 'Track Modify Date': '0000:00:00 00:00:00', 'Balance': '0', 'Y Resolution': '72', 'Handler Type': 'Metadata', 'Video Frame Rate': '24', 'Compatible Brands': 'mp41', 'Audio Format': 'mp4a', 'Op Color': '0 0 0', 'Handler Vendor ID': 'Apple', 'File Size': '65 MB', 'File Name': 'BigBuckBunny', 'Content Create Date': '2008', 'Content-Length': '64657027', 'Content-Type': 'video/mp4', 'Directory': '..', 'Selection Time': '0 s', 'Track Create Date': '0000:00:00 00:00:00', 'Source Image Height': '180', 'Media Time Scale': '48000', 'Composer': 'Blender Foundation', 'Avg Bitrate': '863 kbps', 'Preview Time': '0 s', 'Title': 'Big Buck Bunny', 'Media Create Date': '0000:00:00 00:00:00', 'Bit Depth': '24', 'Image Height': '180', 'Rotation': '0', 'Image Width': '320', 'Source Image Width': '320', 'MIME Type': 'video', 'Media Data Size': '64312797', 'Matrix Structure': '1 0 0 0 1 0 0 0 1'})"
                        ]
                    },
                    "execution_count": 3,
                    "metadata": {},
                    "output_type": "execute_result"
                }
            ],
            "source": [
                "# 3. Extract text from the input file to a byte stream \n",
                "#  This is an advanced use case, remove the output_stream parameter to get a string output\n",
                "\n",
                "output_stream, metadata = tika.parse(\n",
                "    obj=input_doc,\n",
                "    output_stream=True,\n",
                "    output_format=\"xhtml\"\n",
                ")\n",
                "\n",
                "content = output_stream.read().decode(\"utf-8\")\n",
                "\n",
                "metadata"
            ]
        },
        {
            "cell_type": "code",
            "execution_count": 4,
            "metadata": {},
            "outputs": [
                {
                    "data": {
                        "text/plain": [
                            "{'compression': 'avc1',\n",
                            " 'resource_name': '../test/data/BigBuckBunny_320x180.mp4',\n",
                            " 'modified': '2025:01:28 10:15:00-05:00',\n",
                            " 'content_type': 'video/mp4',\n",
                            " 'content_length': 64657027,\n",
                            " 'title': 'Big Buck Bunny',\n",
                            " 'creator': 'Blender Foundation',\n",
                            " 'height': 180,\n",
                            " 'width': 320,\n",
                            " 'duration': '0:09:56'}"
                        ]
                    },
                    "execution_count": 4,
                    "metadata": {},
                    "output_type": "execute_result"
                }
            ],
            "source": [
                "metadata.model_dump(exclude_unset=True, exclude_none=True, exclude={\"raw_metadata\"})"
            ]
        },
        {
            "cell_type": "code",
            "execution_count": 5,
            "metadata": {},
            "outputs": [
                {
                    "data": {
                        "text/plain": [
                            "{'Artist': 'Blender Foundation',\n",
                            " 'Minor Version': '0.2.0',\n",
                            " 'Next Track ID': '3',\n",
                            " 'Modify Date': '0000:00:00 00:00:00',\n",
                            " 'Media Modify Date': '0000:00:00 00:00:00',\n",
                            " 'Current Time': '0 s',\n",
                            " 'X-TIKA:Parsed-By-Full-Set': 'org.apache.tika.parser.DefaultParser',\n",
                            " 'Track Layer': '0',\n",
                            " 'File Type Extension': 'mp4',\n",
                            " 'Media Duration': '0:09:56',\n",
                            " 'Graphics Mode': 'srcCopy',\n",
                            " 'Time Scale': '1000',\n",
                            " 'Track Header Version': '0',\n",
                            " 'X Resolution': '72',\n",
                            " 'Handler Description': 'SoundHandler',\n",
                            " 'Media Language Code': 'und',\n",
                            " 'Audio Bits Per Sample': '16',\n",
                            " 'Audio Channels': '2',\n",
                            " 'Encoder': 'Lavf52.14.0',\n",
                            " 'Media Data Offset': '36',\n",
                            " 'Poster Time': '0 s',\n",
                            " 'Media Header Version': '0',\n",
                            " 'Create Date': '0000:00:00 00:00:00',\n",
                            " 'ExifTool Version Number': '12.76',\n",
                            " 'Track ID': '1',\n",
                            " 'Movie Header Version': '0',\n",
                            " 'Preferred Rate': '1',\n",
                            " 'File Inode Change Date/Time': '2025:01:28 10:15:00-05:00',\n",
                            " 'File Type': 'MP4',\n",
                            " 'resourceName': '../test/data/BigBuckBunny_320x180.mp4',\n",
                            " 'Duration': '0:09:56',\n",
                            " 'Image Size': '320x180',\n",
                            " 'Compressor ID': 'avc1',\n",
                            " 'File Access Date/Time': '2025:01:28 10:15:00-05:00',\n",
                            " 'Major Brand': 'MP4 Base Media v1 [IS0 14496-12:2003]',\n",
                            " 'Track Volume': '0.00',\n",
                            " 'Audio Sample Rate': '48000',\n",
                            " 'File Modification Date/Time': '2025:01:28 10:15:00-05:00',\n",
                            " 'File Permissions': '-rw-rw-r--',\n",
                            " 'Megapixels': '0.058',\n",
                            " 'X-TIKA:Parsed-By': 'org.apache.tika.parser.DefaultParser',\n",
                            " 'Preferred Volume': '100.00',\n",
                            " 'Track Duration': '0:09:56',\n",
                            " 'Selection Duration': '0 s',\n",
                            " 'Preview Duration': '0 s',\n",
                            " 'Track Modify Date': '0000:00:00 00:00:00',\n",
                            " 'Balance': '0',\n",
                            " 'Y Resolution': '72',\n",
                            " 'Handler Type': 'Metadata',\n",
                            " 'Video Frame Rate': '24',\n",
                            " 'Compatible Brands': 'mp41',\n",
                            " 'Audio Format': 'mp4a',\n",
                            " 'Op Color': '0 0 0',\n",
                            " 'Handler Vendor ID': 'Apple',\n",
                            " 'File Size': '65 MB',\n",
                            " 'File Name': 'BigBuckBunny',\n",
                            " 'Content Create Date': '2008',\n",
                            " 'Content-Length': '64657027',\n",
                            " 'Content-Type': 'video/mp4',\n",
                            " 'Directory': '..',\n",
                            " 'Selection Time': '0 s',\n",
                            " 'Track Create Date': '0000:00:00 00:00:00',\n",
                            " 'Source Image Height': '180',\n",
                            " 'Media Time Scale': '48000',\n",
                            " 'Composer': 'Blender Foundation',\n",
                            " 'Avg Bitrate': '863 kbps',\n",
                            " 'Preview Time': '0 s',\n",
                            " 'Title': 'Big Buck Bunny',\n",
                            " 'Media Create Date': '0000:00:00 00:00:00',\n",
                            " 'Bit Depth': '24',\n",
                            " 'Image Height': '180',\n",
                            " 'Rotation': '0',\n",
                            " 'Image Width': '320',\n",
                            " 'Source Image Width': '320',\n",
                            " 'MIME Type': 'video',\n",
                            " 'Media Data Size': '64312797',\n",
                            " 'Matrix Structure': '1 0 0 0 1 0 0 0 1'}"
                        ]
                    },
                    "execution_count": 5,
                    "metadata": {},
                    "output_type": "execute_result"
                }
            ],
            "source": [
                "metadata.raw_metadata"
            ]
        },
        {
            "cell_type": "code",
            "execution_count": 6,
            "metadata": {},
            "outputs": [
                {
                    "name": "stdout",
                    "output_type": "stream",
                    "text": [
                        "<html:html xmlns:html=\"http://www.w3.org/1999/xhtml\">\n",
                        "  <html:head>\n",
                        "    <html:meta name=\"Artist\" content=\"Blender Foundation\" />\n",
                        "    <html:meta name=\"Minor Version\" content=\"0.2.0\" />\n",
                        "    <html:meta name=\"Next Track ID\" content=\"3\" />\n",
                        "    <html:meta name=\"Modify Date\" content=\"0000:00:00 00:00:00\" />\n",
                        "    <html:meta name=\"Media Modify Date\" content=\"0000:00:00 00:00:00\" />\n",
                        "    <html:meta name=\"Current Time\" content=\"0 s\" />\n",
                        "    <html:meta name=\"Track Layer\" content=\"0\" />\n",
                        "    <html:meta name=\"File Type Extension\" content=\"mp4\" />\n",
                        "    <html:meta name=\"Media Duration\" content=\"0:09:56\" />\n",
                        "    <html:meta name=\"Graphics Mode\" content=\"srcCopy\" />\n",
                        "    <html:meta name=\"Time Scale\" content=\"1000\" />\n",
                        "    <html:meta name=\"Track Header Version\" content=\"0\" />\n",
                        "    <html:meta name=\"X Resolution\" content=\"72\" />\n",
                        "    <html:meta name=\"Handler Description\" content=\"SoundHandler\" />\n",
                        "    <html:meta name=\"Media Language Code\" content=\"und\" />\n",
                        "    <html:meta name=\"Audio Bits Per Sample\" content=\"16\" />\n",
                        "    <html:meta name=\"Audio Channels\" content=\"2\" />\n",
                        "    <html:meta name=\"Encoder\" content=\"Lavf52.14.0\" />\n",
                        "    <html:meta name=\"Media Data Offset\" content=\"36\" />\n",
                        "    <html:meta name=\"Poster Time\" content=\"0 s\" />\n",
                        "    <html:meta name=\"Media Header Version\" content=\"0\" />\n",
                        "    <html:meta name=\"Create Date\" content=\"0000:00:00 00:00:00\" />\n",
                        "    <html:meta name=\"ExifTool Version Number\" content=\"12.76\" />\n",
                        "    <html:meta name=\"Track ID\" content=\"1\" />\n",
                        "    <html:meta name=\"Movie Header Version\" content=\"0\" />\n",
                        "    <html:meta name=\"Preferred Rate\" content=\"1\" />\n",
                        "    <html:meta name=\"File Inode Change Date/Time\" content=\"2025:01:28 10:15:00-05:00\" />\n",
                        "    <html:meta name=\"File Type\" content=\"MP4\" />\n",
                        "    <html:meta name=\"resourceName\" content=\"../test/data/BigBuckBunny_320x180.mp4\" />\n",
                        "    <html:meta name=\"Duration\" content=\"0:09:56\" />\n",
                        "    <html:meta name=\"Image Size\" content=\"320x180\" />\n",
                        "    <html:meta name=\"Compressor ID\" content=\"avc1\" />\n",
                        "    <html:meta name=\"File Access Date/Time\" content=\"2025:01:28 10:15:00-05:00\" />\n",
                        "    <html:meta name=\"Major Brand\" content=\"MP4 Base Media v1 [IS0 14496-12:2003]\" />\n",
                        "    <html:meta name=\"Track Volume\" content=\"0.00\" />\n",
                        "    <html:meta name=\"Audio Sample Rate\" content=\"48000\" />\n",
                        "    <html:meta name=\"File Modification Date/Time\" content=\"2025:01:28 10:15:00-05:00\" />\n",
                        "    <html:meta name=\"File Permissions\" content=\"-rw-rw-r--\" />\n",
                        "    <html:meta name=\"Megapixels\" content=\"0.058\" />\n",
                        "    <html:meta name=\"X-TIKA:Parsed-By\" content=\"org.apache.tika.parser.DefaultParser\" />\n",
                        "    <html:meta name=\"X-TIKA:Parsed-By\" content=\"org.apache.tika.parser.external.CompositeExternalParser\" />\n",
                        "    <html:meta name=\"X-TIKA:Parsed-By\" content=\"org.apache.tika.parser.external.ExternalParser\" />\n",
                        "    <html:meta name=\"Preferred Volume\" content=\"100.00\" />\n",
                        "    <html:meta name=\"Track Duration\" content=\"0:09:56\" />\n",
                        "    <html:meta name=\"Selection Duration\" content=\"0 s\" />\n",
                        "    <html:meta name=\"Preview Duration\" content=\"0 s\" />\n",
                        "    <html:meta name=\"Track Modify Date\" content=\"0000:00:00 00:00:00\" />\n",
                        "    <html:meta name=\"Balance\" content=\"0\" />\n",
                        "    <html:meta name=\"Y Resolution\" content=\"72\" />\n",
                        "    <html:meta name=\"Handler Type\" content=\"Metadata\" />\n",
                        "    <html:meta name=\"Video Frame Rate\" content=\"24\" />\n",
                        "    <html:meta name=\"Compatible Brands\" content=\"mp41\" />\n",
                        "    <html:meta name=\"Audio Format\" content=\"mp4a\" />\n",
                        "    <html:meta name=\"Op Color\" content=\"0 0 0\" />\n",
                        "    <html:meta name=\"Handler Vendor ID\" content=\"Apple\" />\n",
                        "    <html:meta name=\"File Size\" content=\"65 MB\" />\n",
                        "    <html:meta name=\"File Name\" content=\"BigBuckBunny\" />\n",
                        "    <html:meta name=\"Content Create Date\" content=\"2008\" />\n",
                        "    <html:meta name=\"Content-Length\" content=\"64657027\" />\n",
                        "    <html:meta name=\"Content-Type\" content=\"video/mp4\" />\n",
                        "    <html:meta name=\"Directory\" content=\"..\" />\n",
                        "    <html:meta name=\"Selection Time\" content=\"0 s\" />\n",
                        "    <html:meta name=\"Track Create Date\" content=\"0000:00:00 00:00:00\" />\n",
                        "    <html:meta name=\"Source Image Height\" content=\"180\" />\n",
                        "    <html:meta name=\"Media Time Scale\" content=\"48000\" />\n",
                        "    <html:meta name=\"Composer\" content=\"Blender Foundation\" />\n",
                        "    <html:meta name=\"Avg Bitrate\" content=\"863 kbps\" />\n",
                        "    <html:meta name=\"Preview Time\" content=\"0 s\" />\n",
                        "    <html:meta name=\"Title\" content=\"Big Buck Bunny\" />\n",
                        "    <html:meta name=\"Media Create Date\" content=\"0000:00:00 00:00:00\" />\n",
                        "    <html:meta name=\"Bit Depth\" content=\"24\" />\n",
                        "    <html:meta name=\"Image Height\" content=\"180\" />\n",
                        "    <html:meta name=\"Rotation\" content=\"0\" />\n",
                        "    <html:meta name=\"Image Width\" content=\"320\" />\n",
                        "    <html:meta name=\"Source Image Width\" content=\"320\" />\n",
                        "    <html:meta name=\"MIME Type\" content=\"video\" />\n",
                        "    <html:meta name=\"Media Data Size\" content=\"64312797\" />\n",
                        "    <html:meta name=\"Matrix Structure\" content=\"1 0 0 0 1 0 0 0 1\" />\n",
                        "    <html:title />\n",
                        "  </html:head>\n",
                        "  <html:body>\n",
                        "    <html:p />\n",
                        "  </html:body>\n",
                        "</html:html>\n"
                    ]
                }
            ],
            "source": [
                "import xml.etree.ElementTree as ET\n",
                "\n",
                "tree = ET.fromstring(content)\n",
                "ET.indent(tree, space=\"  \")  # Available in Python 3.9+\n",
                "pretty_xml = ET.tostring(tree, encoding='unicode')\n",
                "print(pretty_xml)\n"
            ]
        }
    ],
    "metadata": {
        "kernelspec": {
            "display_name": ".venv",
            "language": "python",
            "name": "python3"
        },
        "language_info": {
            "codemirror_mode": {
                "name": "ipython",
                "version": 3
            },
            "file_extension": ".py",
            "mimetype": "text/x-python",
            "name": "python",
            "nbconvert_exporter": "python",
            "pygments_lexer": "ipython3",
            "version": "3.12.8"
        }
    },
    "nbformat": 4,
    "nbformat_minor": 2
}
